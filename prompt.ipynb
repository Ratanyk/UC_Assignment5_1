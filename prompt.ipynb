{
  "cells": [
    {
      "cell_type": "markdown",
      "metadata": {
        "id": "CcUT6Fon_qRE"
      },
      "source": [
        "### Required Assignment 5.1: Will the Customer Accept the Coupon?\n",
        "\n",
        "**Context**\n",
        "\n",
        "Imagine driving through town and a coupon is delivered to your cell phone for a restaurant near where you are driving. Would you accept that coupon and take a short detour to the restaurant? Would you accept the coupon but use it on a subsequent trip? Would you ignore the coupon entirely? What if the coupon was for a bar instead of a restaurant? What about a coffee house? Would you accept a bar coupon with a minor passenger in the car? What about if it was just you and your partner in the car? Would weather impact the rate of acceptance? What about the time of day?\n",
        "\n",
        "Obviously, proximity to the business is a factor on whether the coupon is delivered to the driver or not, but what are the factors that determine whether a driver accepts the coupon once it is delivered to them? How would you determine whether a driver is likely to accept a coupon?\n",
        "\n",
        "**Overview**\n",
        "\n",
        "The goal of this project is to use what you know about visualizations and probability distributions to distinguish between customers who accepted a driving coupon versus those that did not.\n",
        "\n",
        "**Data**\n",
        "\n",
        "This data comes to us from the UCI Machine Learning repository and was collected via a survey on Amazon Mechanical Turk. The survey describes different driving scenarios including the destination, current time, weather, passenger, etc., and then ask the person whether he will accept the coupon if he is the driver. Answers that the user will drive there ‘right away’ or ‘later before the coupon expires’ are labeled as ‘Y = 1’ and answers ‘no, I do not want the coupon’ are labeled as ‘Y = 0’.  There are five different types of coupons -- less expensive restaurants (under \\$20), coffee houses, carry out & take away, bar, and more expensive restaurants (\\$20 - $50)."
      ]
    },
    {
      "cell_type": "markdown",
      "metadata": {
        "id": "1wORvMBJ_qRF"
      },
      "source": [
        "**Deliverables**\n",
        "\n",
        "Your final product should be a brief report that highlights the differences between customers who did and did not accept the coupons.  To explore the data you will utilize your knowledge of plotting, statistical summaries, and visualization using Python. You will publish your findings in a public facing github repository as your first portfolio piece.\n",
        "\n",
        "\n",
        "\n"
      ]
    },
    {
      "cell_type": "markdown",
      "metadata": {
        "id": "pG6_Ym6q_qRG"
      },
      "source": [
        "### Data Description\n",
        "Keep in mind that these values mentioned below are average values.\n",
        "\n",
        "The attributes of this data set include:\n",
        "1. User attributes\n",
        "    -  Gender: male, female\n",
        "    -  Age: below 21, 21 to 25, 26 to 30, etc.\n",
        "    -  Marital Status: single, married partner, unmarried partner, or widowed\n",
        "    -  Number of children: 0, 1, or more than 1\n",
        "    -  Education: high school, bachelors degree, associates degree, or graduate degree\n",
        "    -  Occupation: architecture & engineering, business & financial, etc.\n",
        "    -  Annual income: less than \\\\$12500, \\\\$12500 - \\\\$24999, \\\\$25000 - \\\\$37499, etc.\n",
        "    -  Number of times that he/she goes to a bar: 0, less than 1, 1 to 3, 4 to 8 or greater than 8\n",
        "    -  Number of times that he/she buys takeaway food: 0, less than 1, 1 to 3, 4 to 8 or greater\n",
        "    than 8\n",
        "    -  Number of times that he/she goes to a coffee house: 0, less than 1, 1 to 3, 4 to 8 or\n",
        "    greater than 8\n",
        "    -  Number of times that he/she eats at a restaurant with average expense less than \\\\$20 per\n",
        "    person: 0, less than 1, 1 to 3, 4 to 8 or greater than 8\n",
        "    -  Number of times that he/she goes to a bar: 0, less than 1, 1 to 3, 4 to 8 or greater than 8\n",
        "    \n",
        "\n",
        "2. Contextual attributes\n",
        "    - Driving destination: home, work, or no urgent destination\n",
        "    - Location of user, coupon and destination: we provide a map to show the geographical\n",
        "    location of the user, destination, and the venue, and we mark the distance between each\n",
        "    two places with time of driving. The user can see whether the venue is in the same\n",
        "    direction as the destination.\n",
        "    - Weather: sunny, rainy, or snowy\n",
        "    - Temperature: 30F, 55F, or 80F\n",
        "    - Time: 10AM, 2PM, or 6PM\n",
        "    - Passenger: alone, partner, kid(s), or friend(s)\n",
        "\n",
        "\n",
        "3. Coupon attributes\n",
        "    - time before it expires: 2 hours or one day"
      ]
    },
    {
      "cell_type": "code",
      "execution_count": 75,
      "metadata": {
        "id": "dzNoP3o__qRG"
      },
      "outputs": [
        {
          "data": {
            "text/plain": [
              "Renderers configuration\n",
              "-----------------------\n",
              "    Default renderer: 'vscode'\n",
              "    Available renderers:\n",
              "        ['plotly_mimetype', 'jupyterlab', 'nteract', 'vscode',\n",
              "         'notebook', 'notebook_connected', 'kaggle', 'azure', 'colab',\n",
              "         'cocalc', 'databricks', 'json', 'png', 'jpeg', 'jpg', 'svg',\n",
              "         'pdf', 'browser', 'firefox', 'chrome', 'chromium', 'iframe',\n",
              "         'iframe_connected', 'sphinx_gallery', 'sphinx_gallery_png']"
            ]
          },
          "execution_count": 75,
          "metadata": {},
          "output_type": "execute_result"
        }
      ],
      "source": [
        "import matplotlib.pyplot as plt\n",
        "import plotly.express as px\n",
        "import seaborn as sns\n",
        "import pandas as pd\n",
        "import numpy as np\n",
        "import plotly.io as pio\n",
        "pio.renderers"
      ]
    },
    {
      "cell_type": "markdown",
      "metadata": {
        "id": "Ct8pI1uE_qRG"
      },
      "source": [
        "### Problems\n",
        "\n",
        "Use the prompts below to get started with your data analysis.  \n",
        "\n",
        "1. Read in the `coupons.csv` file.\n",
        "\n",
        "\n"
      ]
    },
    {
      "cell_type": "code",
      "execution_count": 76,
      "metadata": {
        "id": "X0vbffYg_qRH"
      },
      "outputs": [],
      "source": [
        "data = pd.read_csv('data/coupons.csv')"
      ]
    },
    {
      "cell_type": "code",
      "execution_count": 77,
      "metadata": {
        "id": "TXofQ_DF_qRH",
        "outputId": "2fc96a2c-1112-4b54-f24f-dbb9bc88abfb"
      },
      "outputs": [
        {
          "data": {
            "text/html": [
              "<div>\n",
              "<style scoped>\n",
              "    .dataframe tbody tr th:only-of-type {\n",
              "        vertical-align: middle;\n",
              "    }\n",
              "\n",
              "    .dataframe tbody tr th {\n",
              "        vertical-align: top;\n",
              "    }\n",
              "\n",
              "    .dataframe thead th {\n",
              "        text-align: right;\n",
              "    }\n",
              "</style>\n",
              "<table border=\"1\" class=\"dataframe\">\n",
              "  <thead>\n",
              "    <tr style=\"text-align: right;\">\n",
              "      <th></th>\n",
              "      <th>destination</th>\n",
              "      <th>passanger</th>\n",
              "      <th>weather</th>\n",
              "      <th>temperature</th>\n",
              "      <th>time</th>\n",
              "      <th>coupon</th>\n",
              "      <th>expiration</th>\n",
              "      <th>gender</th>\n",
              "      <th>age</th>\n",
              "      <th>maritalStatus</th>\n",
              "      <th>...</th>\n",
              "      <th>CoffeeHouse</th>\n",
              "      <th>CarryAway</th>\n",
              "      <th>RestaurantLessThan20</th>\n",
              "      <th>Restaurant20To50</th>\n",
              "      <th>toCoupon_GEQ5min</th>\n",
              "      <th>toCoupon_GEQ15min</th>\n",
              "      <th>toCoupon_GEQ25min</th>\n",
              "      <th>direction_same</th>\n",
              "      <th>direction_opp</th>\n",
              "      <th>Y</th>\n",
              "    </tr>\n",
              "  </thead>\n",
              "  <tbody>\n",
              "    <tr>\n",
              "      <th>0</th>\n",
              "      <td>No Urgent Place</td>\n",
              "      <td>Alone</td>\n",
              "      <td>Sunny</td>\n",
              "      <td>55</td>\n",
              "      <td>2PM</td>\n",
              "      <td>Restaurant(&lt;20)</td>\n",
              "      <td>1d</td>\n",
              "      <td>Female</td>\n",
              "      <td>21</td>\n",
              "      <td>Unmarried partner</td>\n",
              "      <td>...</td>\n",
              "      <td>never</td>\n",
              "      <td>NaN</td>\n",
              "      <td>4~8</td>\n",
              "      <td>1~3</td>\n",
              "      <td>1</td>\n",
              "      <td>0</td>\n",
              "      <td>0</td>\n",
              "      <td>0</td>\n",
              "      <td>1</td>\n",
              "      <td>1</td>\n",
              "    </tr>\n",
              "    <tr>\n",
              "      <th>1</th>\n",
              "      <td>No Urgent Place</td>\n",
              "      <td>Friend(s)</td>\n",
              "      <td>Sunny</td>\n",
              "      <td>80</td>\n",
              "      <td>10AM</td>\n",
              "      <td>Coffee House</td>\n",
              "      <td>2h</td>\n",
              "      <td>Female</td>\n",
              "      <td>21</td>\n",
              "      <td>Unmarried partner</td>\n",
              "      <td>...</td>\n",
              "      <td>never</td>\n",
              "      <td>NaN</td>\n",
              "      <td>4~8</td>\n",
              "      <td>1~3</td>\n",
              "      <td>1</td>\n",
              "      <td>0</td>\n",
              "      <td>0</td>\n",
              "      <td>0</td>\n",
              "      <td>1</td>\n",
              "      <td>0</td>\n",
              "    </tr>\n",
              "    <tr>\n",
              "      <th>2</th>\n",
              "      <td>No Urgent Place</td>\n",
              "      <td>Friend(s)</td>\n",
              "      <td>Sunny</td>\n",
              "      <td>80</td>\n",
              "      <td>10AM</td>\n",
              "      <td>Carry out &amp; Take away</td>\n",
              "      <td>2h</td>\n",
              "      <td>Female</td>\n",
              "      <td>21</td>\n",
              "      <td>Unmarried partner</td>\n",
              "      <td>...</td>\n",
              "      <td>never</td>\n",
              "      <td>NaN</td>\n",
              "      <td>4~8</td>\n",
              "      <td>1~3</td>\n",
              "      <td>1</td>\n",
              "      <td>1</td>\n",
              "      <td>0</td>\n",
              "      <td>0</td>\n",
              "      <td>1</td>\n",
              "      <td>1</td>\n",
              "    </tr>\n",
              "    <tr>\n",
              "      <th>3</th>\n",
              "      <td>No Urgent Place</td>\n",
              "      <td>Friend(s)</td>\n",
              "      <td>Sunny</td>\n",
              "      <td>80</td>\n",
              "      <td>2PM</td>\n",
              "      <td>Coffee House</td>\n",
              "      <td>2h</td>\n",
              "      <td>Female</td>\n",
              "      <td>21</td>\n",
              "      <td>Unmarried partner</td>\n",
              "      <td>...</td>\n",
              "      <td>never</td>\n",
              "      <td>NaN</td>\n",
              "      <td>4~8</td>\n",
              "      <td>1~3</td>\n",
              "      <td>1</td>\n",
              "      <td>1</td>\n",
              "      <td>0</td>\n",
              "      <td>0</td>\n",
              "      <td>1</td>\n",
              "      <td>0</td>\n",
              "    </tr>\n",
              "    <tr>\n",
              "      <th>4</th>\n",
              "      <td>No Urgent Place</td>\n",
              "      <td>Friend(s)</td>\n",
              "      <td>Sunny</td>\n",
              "      <td>80</td>\n",
              "      <td>2PM</td>\n",
              "      <td>Coffee House</td>\n",
              "      <td>1d</td>\n",
              "      <td>Female</td>\n",
              "      <td>21</td>\n",
              "      <td>Unmarried partner</td>\n",
              "      <td>...</td>\n",
              "      <td>never</td>\n",
              "      <td>NaN</td>\n",
              "      <td>4~8</td>\n",
              "      <td>1~3</td>\n",
              "      <td>1</td>\n",
              "      <td>1</td>\n",
              "      <td>0</td>\n",
              "      <td>0</td>\n",
              "      <td>1</td>\n",
              "      <td>0</td>\n",
              "    </tr>\n",
              "  </tbody>\n",
              "</table>\n",
              "<p>5 rows × 26 columns</p>\n",
              "</div>"
            ],
            "text/plain": [
              "       destination  passanger weather  temperature  time  \\\n",
              "0  No Urgent Place      Alone   Sunny           55   2PM   \n",
              "1  No Urgent Place  Friend(s)   Sunny           80  10AM   \n",
              "2  No Urgent Place  Friend(s)   Sunny           80  10AM   \n",
              "3  No Urgent Place  Friend(s)   Sunny           80   2PM   \n",
              "4  No Urgent Place  Friend(s)   Sunny           80   2PM   \n",
              "\n",
              "                  coupon expiration  gender age      maritalStatus  ...  \\\n",
              "0        Restaurant(<20)         1d  Female  21  Unmarried partner  ...   \n",
              "1           Coffee House         2h  Female  21  Unmarried partner  ...   \n",
              "2  Carry out & Take away         2h  Female  21  Unmarried partner  ...   \n",
              "3           Coffee House         2h  Female  21  Unmarried partner  ...   \n",
              "4           Coffee House         1d  Female  21  Unmarried partner  ...   \n",
              "\n",
              "   CoffeeHouse CarryAway RestaurantLessThan20 Restaurant20To50  \\\n",
              "0        never       NaN                  4~8              1~3   \n",
              "1        never       NaN                  4~8              1~3   \n",
              "2        never       NaN                  4~8              1~3   \n",
              "3        never       NaN                  4~8              1~3   \n",
              "4        never       NaN                  4~8              1~3   \n",
              "\n",
              "  toCoupon_GEQ5min toCoupon_GEQ15min toCoupon_GEQ25min direction_same  \\\n",
              "0                1                 0                 0              0   \n",
              "1                1                 0                 0              0   \n",
              "2                1                 1                 0              0   \n",
              "3                1                 1                 0              0   \n",
              "4                1                 1                 0              0   \n",
              "\n",
              "  direction_opp  Y  \n",
              "0             1  1  \n",
              "1             1  0  \n",
              "2             1  1  \n",
              "3             1  0  \n",
              "4             1  0  \n",
              "\n",
              "[5 rows x 26 columns]"
            ]
          },
          "execution_count": 77,
          "metadata": {},
          "output_type": "execute_result"
        }
      ],
      "source": [
        "data.head()"
      ]
    },
    {
      "cell_type": "markdown",
      "metadata": {
        "id": "GcDs78ZH_qRH"
      },
      "source": [
        "2. Investigate the dataset for missing or problematic data."
      ]
    },
    {
      "cell_type": "code",
      "execution_count": 78,
      "metadata": {
        "id": "6CwL6oWj_qRH"
      },
      "outputs": [
        {
          "data": {
            "text/plain": [
              "(12684, 26)"
            ]
          },
          "execution_count": 78,
          "metadata": {},
          "output_type": "execute_result"
        }
      ],
      "source": [
        "#Determine the shape of the dataframe\n",
        "data.shape\n"
      ]
    },
    {
      "cell_type": "code",
      "execution_count": 79,
      "metadata": {},
      "outputs": [
        {
          "name": "stdout",
          "output_type": "stream",
          "text": [
            "<class 'pandas.core.frame.DataFrame'>\n",
            "RangeIndex: 12684 entries, 0 to 12683\n",
            "Data columns (total 26 columns):\n",
            " #   Column                Non-Null Count  Dtype \n",
            "---  ------                --------------  ----- \n",
            " 0   destination           12684 non-null  object\n",
            " 1   passanger             12684 non-null  object\n",
            " 2   weather               12684 non-null  object\n",
            " 3   temperature           12684 non-null  int64 \n",
            " 4   time                  12684 non-null  object\n",
            " 5   coupon                12684 non-null  object\n",
            " 6   expiration            12684 non-null  object\n",
            " 7   gender                12684 non-null  object\n",
            " 8   age                   12684 non-null  object\n",
            " 9   maritalStatus         12684 non-null  object\n",
            " 10  has_children          12684 non-null  int64 \n",
            " 11  education             12684 non-null  object\n",
            " 12  occupation            12684 non-null  object\n",
            " 13  income                12684 non-null  object\n",
            " 14  car                   108 non-null    object\n",
            " 15  Bar                   12577 non-null  object\n",
            " 16  CoffeeHouse           12467 non-null  object\n",
            " 17  CarryAway             12533 non-null  object\n",
            " 18  RestaurantLessThan20  12554 non-null  object\n",
            " 19  Restaurant20To50      12495 non-null  object\n",
            " 20  toCoupon_GEQ5min      12684 non-null  int64 \n",
            " 21  toCoupon_GEQ15min     12684 non-null  int64 \n",
            " 22  toCoupon_GEQ25min     12684 non-null  int64 \n",
            " 23  direction_same        12684 non-null  int64 \n",
            " 24  direction_opp         12684 non-null  int64 \n",
            " 25  Y                     12684 non-null  int64 \n",
            "dtypes: int64(8), object(18)\n",
            "memory usage: 2.5+ MB\n"
          ]
        }
      ],
      "source": [
        "#View the data model\n",
        "data.info()"
      ]
    },
    {
      "cell_type": "code",
      "execution_count": 80,
      "metadata": {},
      "outputs": [
        {
          "data": {
            "text/plain": [
              "array(['$37500 - $49999', '$62500 - $74999', '$12500 - $24999',\n",
              "       '$75000 - $87499', '$50000 - $62499', '$25000 - $37499',\n",
              "       '$100000 or More', '$87500 - $99999', 'Less than $12500'],\n",
              "      dtype=object)"
            ]
          },
          "execution_count": 80,
          "metadata": {},
          "output_type": "execute_result"
        }
      ],
      "source": [
        "#Check the unique values in the key columns which determine the coupon redemption\n",
        "\n",
        "data['income'].unique()\n"
      ]
    },
    {
      "cell_type": "code",
      "execution_count": 81,
      "metadata": {},
      "outputs": [
        {
          "data": {
            "text/plain": [
              "13370"
            ]
          },
          "execution_count": 81,
          "metadata": {},
          "output_type": "execute_result"
        }
      ],
      "source": [
        "# Lets find the 'total' null value count\n",
        "\n",
        "data.isnull().sum().sum()"
      ]
    },
    {
      "cell_type": "code",
      "execution_count": 82,
      "metadata": {},
      "outputs": [
        {
          "data": {
            "text/plain": [
              "destination                 0\n",
              "passanger                   0\n",
              "weather                     0\n",
              "temperature                 0\n",
              "time                        0\n",
              "coupon                      0\n",
              "expiration                  0\n",
              "gender                      0\n",
              "age                         0\n",
              "maritalStatus               0\n",
              "has_children                0\n",
              "education                   0\n",
              "occupation                  0\n",
              "income                      0\n",
              "car                     12576\n",
              "Bar                       107\n",
              "CoffeeHouse               217\n",
              "CarryAway                 151\n",
              "RestaurantLessThan20      130\n",
              "Restaurant20To50          189\n",
              "toCoupon_GEQ5min            0\n",
              "toCoupon_GEQ15min           0\n",
              "toCoupon_GEQ25min           0\n",
              "direction_same              0\n",
              "direction_opp               0\n",
              "Y                           0\n",
              "dtype: int64"
            ]
          },
          "execution_count": 82,
          "metadata": {},
          "output_type": "execute_result"
        }
      ],
      "source": [
        "# Lets find the null value counts for all the columns in a simple way\n",
        "\n",
        "data.isnull().sum()"
      ]
    },
    {
      "cell_type": "code",
      "execution_count": 52,
      "metadata": {},
      "outputs": [
        {
          "name": "stdout",
          "output_type": "stream",
          "text": [
            "Features with NaN data:  ['car' 'Bar' 'CoffeeHouse' 'CarryAway' 'RestaurantLessThan20'\n",
            " 'Restaurant20To50']\n"
          ]
        },
        {
          "data": {
            "text/plain": [
              "<Axes: >"
            ]
          },
          "execution_count": 52,
          "metadata": {},
          "output_type": "execute_result"
        },
        {
          "data": {
            "image/png": "[encoded data removed]",
            "text/plain": [
              "<Figure size 1500x1000 with 2 Axes>"
            ]
          },
          "metadata": {},
          "output_type": "display_data"
        }
      ],
      "source": [
        "nan_data = data.columns[data.isna().any()].values\n",
        "print('Features with NaN data: ', nan_data)\n",
        "\n",
        "#Determining if there is NaN data using heatmap\n",
        "sns.set(rc = {'figure.figsize':(15,10)})\n",
        "sns.heatmap(data.isna())"
      ]
    },
    {
      "cell_type": "code",
      "execution_count": 53,
      "metadata": {},
      "outputs": [
        {
          "data": {
            "text/html": [
              "<div>\n",
              "<style scoped>\n",
              "    .dataframe tbody tr th:only-of-type {\n",
              "        vertical-align: middle;\n",
              "    }\n",
              "\n",
              "    .dataframe tbody tr th {\n",
              "        vertical-align: top;\n",
              "    }\n",
              "\n",
              "    .dataframe thead th {\n",
              "        text-align: right;\n",
              "    }\n",
              "</style>\n",
              "<table border=\"1\" class=\"dataframe\">\n",
              "  <thead>\n",
              "    <tr style=\"text-align: right;\">\n",
              "      <th></th>\n",
              "      <th>destination</th>\n",
              "      <th>passanger</th>\n",
              "      <th>weather</th>\n",
              "      <th>temperature</th>\n",
              "      <th>time</th>\n",
              "      <th>coupon</th>\n",
              "      <th>expiration</th>\n",
              "      <th>gender</th>\n",
              "      <th>age</th>\n",
              "      <th>maritalStatus</th>\n",
              "      <th>...</th>\n",
              "      <th>CoffeeHouse</th>\n",
              "      <th>CarryAway</th>\n",
              "      <th>RestaurantLessThan20</th>\n",
              "      <th>Restaurant20To50</th>\n",
              "      <th>toCoupon_GEQ5min</th>\n",
              "      <th>toCoupon_GEQ15min</th>\n",
              "      <th>toCoupon_GEQ25min</th>\n",
              "      <th>direction_same</th>\n",
              "      <th>direction_opp</th>\n",
              "      <th>couponAcceptanceStatus</th>\n",
              "    </tr>\n",
              "  </thead>\n",
              "  <tbody>\n",
              "    <tr>\n",
              "      <th>count</th>\n",
              "      <td>12684</td>\n",
              "      <td>12684</td>\n",
              "      <td>12684</td>\n",
              "      <td>12684.000000</td>\n",
              "      <td>12684</td>\n",
              "      <td>12684</td>\n",
              "      <td>12684</td>\n",
              "      <td>12684</td>\n",
              "      <td>12684</td>\n",
              "      <td>12684</td>\n",
              "      <td>...</td>\n",
              "      <td>12467</td>\n",
              "      <td>12533</td>\n",
              "      <td>12554</td>\n",
              "      <td>12495</td>\n",
              "      <td>12684.0</td>\n",
              "      <td>12684.000000</td>\n",
              "      <td>12684.000000</td>\n",
              "      <td>12684.000000</td>\n",
              "      <td>12684.000000</td>\n",
              "      <td>12684.000000</td>\n",
              "    </tr>\n",
              "    <tr>\n",
              "      <th>unique</th>\n",
              "      <td>3</td>\n",
              "      <td>4</td>\n",
              "      <td>3</td>\n",
              "      <td>NaN</td>\n",
              "      <td>5</td>\n",
              "      <td>5</td>\n",
              "      <td>2</td>\n",
              "      <td>2</td>\n",
              "      <td>8</td>\n",
              "      <td>5</td>\n",
              "      <td>...</td>\n",
              "      <td>5</td>\n",
              "      <td>5</td>\n",
              "      <td>5</td>\n",
              "      <td>5</td>\n",
              "      <td>NaN</td>\n",
              "      <td>NaN</td>\n",
              "      <td>NaN</td>\n",
              "      <td>NaN</td>\n",
              "      <td>NaN</td>\n",
              "      <td>NaN</td>\n",
              "    </tr>\n",
              "    <tr>\n",
              "      <th>top</th>\n",
              "      <td>No Urgent Place</td>\n",
              "      <td>Alone</td>\n",
              "      <td>Sunny</td>\n",
              "      <td>NaN</td>\n",
              "      <td>6PM</td>\n",
              "      <td>Coffee House</td>\n",
              "      <td>1d</td>\n",
              "      <td>Female</td>\n",
              "      <td>21</td>\n",
              "      <td>Married partner</td>\n",
              "      <td>...</td>\n",
              "      <td>less1</td>\n",
              "      <td>1~3</td>\n",
              "      <td>1~3</td>\n",
              "      <td>less1</td>\n",
              "      <td>NaN</td>\n",
              "      <td>NaN</td>\n",
              "      <td>NaN</td>\n",
              "      <td>NaN</td>\n",
              "      <td>NaN</td>\n",
              "      <td>NaN</td>\n",
              "    </tr>\n",
              "    <tr>\n",
              "      <th>freq</th>\n",
              "      <td>6283</td>\n",
              "      <td>7305</td>\n",
              "      <td>10069</td>\n",
              "      <td>NaN</td>\n",
              "      <td>3230</td>\n",
              "      <td>3996</td>\n",
              "      <td>7091</td>\n",
              "      <td>6511</td>\n",
              "      <td>2653</td>\n",
              "      <td>5100</td>\n",
              "      <td>...</td>\n",
              "      <td>3385</td>\n",
              "      <td>4672</td>\n",
              "      <td>5376</td>\n",
              "      <td>6077</td>\n",
              "      <td>NaN</td>\n",
              "      <td>NaN</td>\n",
              "      <td>NaN</td>\n",
              "      <td>NaN</td>\n",
              "      <td>NaN</td>\n",
              "      <td>NaN</td>\n",
              "    </tr>\n",
              "    <tr>\n",
              "      <th>mean</th>\n",
              "      <td>NaN</td>\n",
              "      <td>NaN</td>\n",
              "      <td>NaN</td>\n",
              "      <td>63.301798</td>\n",
              "      <td>NaN</td>\n",
              "      <td>NaN</td>\n",
              "      <td>NaN</td>\n",
              "      <td>NaN</td>\n",
              "      <td>NaN</td>\n",
              "      <td>NaN</td>\n",
              "      <td>...</td>\n",
              "      <td>NaN</td>\n",
              "      <td>NaN</td>\n",
              "      <td>NaN</td>\n",
              "      <td>NaN</td>\n",
              "      <td>1.0</td>\n",
              "      <td>0.561495</td>\n",
              "      <td>0.119126</td>\n",
              "      <td>0.214759</td>\n",
              "      <td>0.785241</td>\n",
              "      <td>0.568433</td>\n",
              "    </tr>\n",
              "    <tr>\n",
              "      <th>std</th>\n",
              "      <td>NaN</td>\n",
              "      <td>NaN</td>\n",
              "      <td>NaN</td>\n",
              "      <td>19.154486</td>\n",
              "      <td>NaN</td>\n",
              "      <td>NaN</td>\n",
              "      <td>NaN</td>\n",
              "      <td>NaN</td>\n",
              "      <td>NaN</td>\n",
              "      <td>NaN</td>\n",
              "      <td>...</td>\n",
              "      <td>NaN</td>\n",
              "      <td>NaN</td>\n",
              "      <td>NaN</td>\n",
              "      <td>NaN</td>\n",
              "      <td>0.0</td>\n",
              "      <td>0.496224</td>\n",
              "      <td>0.323950</td>\n",
              "      <td>0.410671</td>\n",
              "      <td>0.410671</td>\n",
              "      <td>0.495314</td>\n",
              "    </tr>\n",
              "    <tr>\n",
              "      <th>min</th>\n",
              "      <td>NaN</td>\n",
              "      <td>NaN</td>\n",
              "      <td>NaN</td>\n",
              "      <td>30.000000</td>\n",
              "      <td>NaN</td>\n",
              "      <td>NaN</td>\n",
              "      <td>NaN</td>\n",
              "      <td>NaN</td>\n",
              "      <td>NaN</td>\n",
              "      <td>NaN</td>\n",
              "      <td>...</td>\n",
              "      <td>NaN</td>\n",
              "      <td>NaN</td>\n",
              "      <td>NaN</td>\n",
              "      <td>NaN</td>\n",
              "      <td>1.0</td>\n",
              "      <td>0.000000</td>\n",
              "      <td>0.000000</td>\n",
              "      <td>0.000000</td>\n",
              "      <td>0.000000</td>\n",
              "      <td>0.000000</td>\n",
              "    </tr>\n",
              "    <tr>\n",
              "      <th>25%</th>\n",
              "      <td>NaN</td>\n",
              "      <td>NaN</td>\n",
              "      <td>NaN</td>\n",
              "      <td>55.000000</td>\n",
              "      <td>NaN</td>\n",
              "      <td>NaN</td>\n",
              "      <td>NaN</td>\n",
              "      <td>NaN</td>\n",
              "      <td>NaN</td>\n",
              "      <td>NaN</td>\n",
              "      <td>...</td>\n",
              "      <td>NaN</td>\n",
              "      <td>NaN</td>\n",
              "      <td>NaN</td>\n",
              "      <td>NaN</td>\n",
              "      <td>1.0</td>\n",
              "      <td>0.000000</td>\n",
              "      <td>0.000000</td>\n",
              "      <td>0.000000</td>\n",
              "      <td>1.000000</td>\n",
              "      <td>0.000000</td>\n",
              "    </tr>\n",
              "    <tr>\n",
              "      <th>50%</th>\n",
              "      <td>NaN</td>\n",
              "      <td>NaN</td>\n",
              "      <td>NaN</td>\n",
              "      <td>80.000000</td>\n",
              "      <td>NaN</td>\n",
              "      <td>NaN</td>\n",
              "      <td>NaN</td>\n",
              "      <td>NaN</td>\n",
              "      <td>NaN</td>\n",
              "      <td>NaN</td>\n",
              "      <td>...</td>\n",
              "      <td>NaN</td>\n",
              "      <td>NaN</td>\n",
              "      <td>NaN</td>\n",
              "      <td>NaN</td>\n",
              "      <td>1.0</td>\n",
              "      <td>1.000000</td>\n",
              "      <td>0.000000</td>\n",
              "      <td>0.000000</td>\n",
              "      <td>1.000000</td>\n",
              "      <td>1.000000</td>\n",
              "    </tr>\n",
              "    <tr>\n",
              "      <th>75%</th>\n",
              "      <td>NaN</td>\n",
              "      <td>NaN</td>\n",
              "      <td>NaN</td>\n",
              "      <td>80.000000</td>\n",
              "      <td>NaN</td>\n",
              "      <td>NaN</td>\n",
              "      <td>NaN</td>\n",
              "      <td>NaN</td>\n",
              "      <td>NaN</td>\n",
              "      <td>NaN</td>\n",
              "      <td>...</td>\n",
              "      <td>NaN</td>\n",
              "      <td>NaN</td>\n",
              "      <td>NaN</td>\n",
              "      <td>NaN</td>\n",
              "      <td>1.0</td>\n",
              "      <td>1.000000</td>\n",
              "      <td>0.000000</td>\n",
              "      <td>0.000000</td>\n",
              "      <td>1.000000</td>\n",
              "      <td>1.000000</td>\n",
              "    </tr>\n",
              "    <tr>\n",
              "      <th>max</th>\n",
              "      <td>NaN</td>\n",
              "      <td>NaN</td>\n",
              "      <td>NaN</td>\n",
              "      <td>80.000000</td>\n",
              "      <td>NaN</td>\n",
              "      <td>NaN</td>\n",
              "      <td>NaN</td>\n",
              "      <td>NaN</td>\n",
              "      <td>NaN</td>\n",
              "      <td>NaN</td>\n",
              "      <td>...</td>\n",
              "      <td>NaN</td>\n",
              "      <td>NaN</td>\n",
              "      <td>NaN</td>\n",
              "      <td>NaN</td>\n",
              "      <td>1.0</td>\n",
              "      <td>1.000000</td>\n",
              "      <td>1.000000</td>\n",
              "      <td>1.000000</td>\n",
              "      <td>1.000000</td>\n",
              "      <td>1.000000</td>\n",
              "    </tr>\n",
              "  </tbody>\n",
              "</table>\n",
              "<p>11 rows × 26 columns</p>\n",
              "</div>"
            ],
            "text/plain": [
              "            destination passanger weather   temperature   time        coupon  \\\n",
              "count             12684     12684   12684  12684.000000  12684         12684   \n",
              "unique                3         4       3           NaN      5             5   \n",
              "top     No Urgent Place     Alone   Sunny           NaN    6PM  Coffee House   \n",
              "freq               6283      7305   10069           NaN   3230          3996   \n",
              "mean                NaN       NaN     NaN     63.301798    NaN           NaN   \n",
              "std                 NaN       NaN     NaN     19.154486    NaN           NaN   \n",
              "min                 NaN       NaN     NaN     30.000000    NaN           NaN   \n",
              "25%                 NaN       NaN     NaN     55.000000    NaN           NaN   \n",
              "50%                 NaN       NaN     NaN     80.000000    NaN           NaN   \n",
              "75%                 NaN       NaN     NaN     80.000000    NaN           NaN   \n",
              "max                 NaN       NaN     NaN     80.000000    NaN           NaN   \n",
              "\n",
              "       expiration  gender    age    maritalStatus  ...  CoffeeHouse CarryAway  \\\n",
              "count       12684   12684  12684            12684  ...        12467     12533   \n",
              "unique          2       2      8                5  ...            5         5   \n",
              "top            1d  Female     21  Married partner  ...        less1       1~3   \n",
              "freq         7091    6511   2653             5100  ...         3385      4672   \n",
              "mean          NaN     NaN    NaN              NaN  ...          NaN       NaN   \n",
              "std           NaN     NaN    NaN              NaN  ...          NaN       NaN   \n",
              "min           NaN     NaN    NaN              NaN  ...          NaN       NaN   \n",
              "25%           NaN     NaN    NaN              NaN  ...          NaN       NaN   \n",
              "50%           NaN     NaN    NaN              NaN  ...          NaN       NaN   \n",
              "75%           NaN     NaN    NaN              NaN  ...          NaN       NaN   \n",
              "max           NaN     NaN    NaN              NaN  ...          NaN       NaN   \n",
              "\n",
              "       RestaurantLessThan20 Restaurant20To50 toCoupon_GEQ5min  \\\n",
              "count                 12554            12495          12684.0   \n",
              "unique                    5                5              NaN   \n",
              "top                     1~3            less1              NaN   \n",
              "freq                   5376             6077              NaN   \n",
              "mean                    NaN              NaN              1.0   \n",
              "std                     NaN              NaN              0.0   \n",
              "min                     NaN              NaN              1.0   \n",
              "25%                     NaN              NaN              1.0   \n",
              "50%                     NaN              NaN              1.0   \n",
              "75%                     NaN              NaN              1.0   \n",
              "max                     NaN              NaN              1.0   \n",
              "\n",
              "       toCoupon_GEQ15min toCoupon_GEQ25min direction_same direction_opp  \\\n",
              "count       12684.000000      12684.000000   12684.000000  12684.000000   \n",
              "unique               NaN               NaN            NaN           NaN   \n",
              "top                  NaN               NaN            NaN           NaN   \n",
              "freq                 NaN               NaN            NaN           NaN   \n",
              "mean            0.561495          0.119126       0.214759      0.785241   \n",
              "std             0.496224          0.323950       0.410671      0.410671   \n",
              "min             0.000000          0.000000       0.000000      0.000000   \n",
              "25%             0.000000          0.000000       0.000000      1.000000   \n",
              "50%             1.000000          0.000000       0.000000      1.000000   \n",
              "75%             1.000000          0.000000       0.000000      1.000000   \n",
              "max             1.000000          1.000000       1.000000      1.000000   \n",
              "\n",
              "       couponAcceptanceStatus  \n",
              "count            12684.000000  \n",
              "unique                    NaN  \n",
              "top                       NaN  \n",
              "freq                      NaN  \n",
              "mean                 0.568433  \n",
              "std                  0.495314  \n",
              "min                  0.000000  \n",
              "25%                  0.000000  \n",
              "50%                  1.000000  \n",
              "75%                  1.000000  \n",
              "max                  1.000000  \n",
              "\n",
              "[11 rows x 26 columns]"
            ]
          },
          "execution_count": 53,
          "metadata": {},
          "output_type": "execute_result"
        }
      ],
      "source": [
        "#Description of the data\n",
        "data.describe(include='all')"
      ]
    },
    {
      "cell_type": "code",
      "execution_count": 83,
      "metadata": {},
      "outputs": [
        {
          "data": {
            "text/plain": [
              "array([nan, 'Scooter and motorcycle', 'crossover', 'Mazda5',\n",
              "       'do not drive', 'Car that is too old to install Onstar :D'],\n",
              "      dtype=object)"
            ]
          },
          "execution_count": 83,
          "metadata": {},
          "output_type": "execute_result"
        }
      ],
      "source": [
        "# Lets find all the unique values in column 'car' to understand better\n",
        "\n",
        "data['car'].unique()"
      ]
    },
    {
      "cell_type": "markdown",
      "metadata": {
        "id": "bSdVSpYB_qRH"
      },
      "source": [
        "3. Decide what to do about your missing data -- drop, replace, other..."
      ]
    },
    {
      "cell_type": "code",
      "execution_count": 84,
      "metadata": {},
      "outputs": [],
      "source": [
        "# Create a new data frame by making a copy\n",
        "\n",
        "df = data"
      ]
    },
    {
      "cell_type": "code",
      "execution_count": 85,
      "metadata": {},
      "outputs": [],
      "source": [
        "# Fill the null values in 'car'column as 'no'\n",
        "\n",
        "df['car']=df['car'].fillna(value='no')"
      ]
    },
    {
      "cell_type": "code",
      "execution_count": 86,
      "metadata": {},
      "outputs": [],
      "source": [
        "# Fill the remaining non null values in 'car'column as 'yes' & 'no' as appropriate\n",
        "\n",
        "df = df.replace({'car' : {'Scooter and motorcycle' : 'yes', 'crossover' : 'yes', 'Mazda5' : 'yes',\n",
        "                          'do not drive' : 'no', 'Car that is too old to install Onstar :D' : 'no'}})"
      ]
    },
    {
      "cell_type": "code",
      "execution_count": 87,
      "metadata": {},
      "outputs": [
        {
          "data": {
            "text/plain": [
              "array(['no', 'yes'], dtype=object)"
            ]
          },
          "execution_count": 87,
          "metadata": {},
          "output_type": "execute_result"
        }
      ],
      "source": [
        "# Let's check how many unique values exist now\n",
        "\n",
        "df['car'].unique()"
      ]
    },
    {
      "cell_type": "code",
      "execution_count": 88,
      "metadata": {},
      "outputs": [
        {
          "data": {
            "text/plain": [
              "794"
            ]
          },
          "execution_count": 88,
          "metadata": {},
          "output_type": "execute_result"
        }
      ],
      "source": [
        "# Lets find the 'total' null value count in df\n",
        "\n",
        "df.isnull().sum().sum()"
      ]
    },
    {
      "cell_type": "markdown",
      "metadata": {},
      "source": []
    },
    {
      "cell_type": "code",
      "execution_count": 89,
      "metadata": {
        "id": "tyvoAC5F_qRI"
      },
      "outputs": [],
      "source": [
        "# Drop the remaining negligible count of null values\n",
        "\n",
        "df = df.dropna()"
      ]
    },
    {
      "cell_type": "code",
      "execution_count": 90,
      "metadata": {},
      "outputs": [
        {
          "data": {
            "text/plain": [
              "0"
            ]
          },
          "execution_count": 90,
          "metadata": {},
          "output_type": "execute_result"
        }
      ],
      "source": [
        "# Lets find the 'total' null value count in df, again\n",
        "\n",
        "df.isnull().sum().sum()"
      ]
    },
    {
      "cell_type": "markdown",
      "metadata": {
        "id": "YE6oJbXd_qRI"
      },
      "source": [
        "4. What proportion of the total observations chose to accept the coupon?\n",
        "\n"
      ]
    },
    {
      "cell_type": "code",
      "execution_count": 91,
      "metadata": {
        "id": "86GGqBTv_qRI"
      },
      "outputs": [
        {
          "data": {
            "text/plain": [
              "56.93"
            ]
          },
          "execution_count": 91,
          "metadata": {},
          "output_type": "execute_result"
        }
      ],
      "source": [
        "# Lets first calculate the coupon accepted count\n",
        "\n",
        "coupon_accepted = df['Y'].value_counts()[1]\n",
        "\n",
        "# Lets calculate the total coupon offered count\n",
        "\n",
        "total_coupon_offered = df['Y'].count()\n",
        "\n",
        "# Lets calculate the proportion of coupon acceptance from above values\n",
        "\n",
        "proportion_of_coupon_acceptance = round((coupon_accepted/total_coupon_offered)*100,2)\n",
        "\n",
        "proportion_of_coupon_acceptance"
      ]
    },
    {
      "cell_type": "markdown",
      "metadata": {
        "id": "vflz0DoE_qRI"
      },
      "source": [
        "5. Use a bar plot to visualize the `coupon` column."
      ]
    },
    {
      "cell_type": "code",
      "execution_count": 92,
      "metadata": {
        "id": "dHFh3E45_qRI"
      },
      "outputs": [
        {
          "data": {
            "text/plain": [
              "Text(0.5, 1.0, 'Coupon Type by Count')"
            ]
          },
          "execution_count": 92,
          "metadata": {},
          "output_type": "execute_result"
        },
        {
          "data": {
            "image/png": "[encoded data removed]",
            "text/plain": [
              "<Figure size 1500x1000 with 1 Axes>"
            ]
          },
          "metadata": {},
          "output_type": "display_data"
        }
      ],
      "source": [
        "# Below bar plot shows the coupon column with all its unique values with count\n",
        "\n",
        "g1 = sns.barplot(x=df.coupon.value_counts().index, y=df.coupon.value_counts())\n",
        "g1.tick_params(axis='x', rotation=45)\n",
        "g1.set(xlabel='Coupon Type', ylabel='Total Count')\n",
        "g1.set_title('Coupon Type by Count')"
      ]
    },
    {
      "cell_type": "code",
      "execution_count": 93,
      "metadata": {},
      "outputs": [
        {
          "data": {
            "text/plain": [
              "Text(0.5, 1.0, 'Coupon Type by Count')"
            ]
          },
          "execution_count": 93,
          "metadata": {},
          "output_type": "execute_result"
        },
        {
          "data": {
            "image/png": "[encoded data removed]",
            "text/plain": [
              "<Figure size 1500x1000 with 1 Axes>"
            ]
          },
          "metadata": {},
          "output_type": "display_data"
        }
      ],
      "source": [
        "# Below is the same equivalent of above but done using count plot\n",
        "\n",
        "g2 = sns.countplot(data = df, x='coupon')\n",
        "g2.tick_params(axis='x', rotation=45)\n",
        "g2.set(xlabel='Coupon Type', ylabel='Total Count')\n",
        "g2.set_title('Coupon Type by Count')"
      ]
    },
    {
      "cell_type": "markdown",
      "metadata": {
        "id": "Qw4lCyx2_qRI"
      },
      "source": [
        "6. Use a histogram to visualize the temperature column."
      ]
    },
    {
      "cell_type": "code",
      "execution_count": 94,
      "metadata": {
        "id": "Yg9Anv71_qRI"
      },
      "outputs": [
        {
          "data": {
            "text/plain": [
              "Text(0.5, 1.0, 'Temperature Histogram')"
            ]
          },
          "execution_count": 94,
          "metadata": {},
          "output_type": "execute_result"
        },
        {
          "data": {
            "image/png": "[encoded data removed]",
            "text/plain": [
              "<Figure size 1500x1000 with 1 Axes>"
            ]
          },
          "metadata": {},
          "output_type": "display_data"
        }
      ],
      "source": [
        "g3 = sns.histplot(data=df, x='temperature', binwidth=10)\n",
        "g3.set_title('Temperature Histogram')"
      ]
    },
    {
      "cell_type": "markdown",
      "metadata": {
        "id": "FupfgeJk_qRJ"
      },
      "source": [
        "**Investigating the Bar Coupons**\n",
        "\n",
        "Now, we will lead you through an exploration of just the bar related coupons.  \n",
        "\n",
        "1. Create a new `DataFrame` that contains just the bar coupons.\n"
      ]
    },
    {
      "cell_type": "code",
      "execution_count": 95,
      "metadata": {
        "id": "tMBlWuGq_qRJ"
      },
      "outputs": [
        {
          "data": {
            "text/plain": [
              "array(['Restaurant(<20)', 'Coffee House', 'Bar', 'Carry out & Take away',\n",
              "       'Restaurant(20-50)'], dtype=object)"
            ]
          },
          "execution_count": 95,
          "metadata": {},
          "output_type": "execute_result"
        }
      ],
      "source": [
        "# Let's first find the unique values of 'coupon' column to see all the available choices\n",
        "\n",
        "df['coupon'].unique()"
      ]
    },
    {
      "cell_type": "code",
      "execution_count": 96,
      "metadata": {},
      "outputs": [],
      "source": [
        "df_bar_coupons = df.query(\"coupon == 'Bar'\")\n"
      ]
    },
    {
      "cell_type": "code",
      "execution_count": 97,
      "metadata": {},
      "outputs": [
        {
          "data": {
            "text/html": [
              "<div>\n",
              "<style scoped>\n",
              "    .dataframe tbody tr th:only-of-type {\n",
              "        vertical-align: middle;\n",
              "    }\n",
              "\n",
              "    .dataframe tbody tr th {\n",
              "        vertical-align: top;\n",
              "    }\n",
              "\n",
              "    .dataframe thead th {\n",
              "        text-align: right;\n",
              "    }\n",
              "</style>\n",
              "<table border=\"1\" class=\"dataframe\">\n",
              "  <thead>\n",
              "    <tr style=\"text-align: right;\">\n",
              "      <th></th>\n",
              "      <th>destination</th>\n",
              "      <th>passanger</th>\n",
              "      <th>weather</th>\n",
              "      <th>temperature</th>\n",
              "      <th>time</th>\n",
              "      <th>coupon</th>\n",
              "      <th>expiration</th>\n",
              "      <th>gender</th>\n",
              "      <th>age</th>\n",
              "      <th>maritalStatus</th>\n",
              "      <th>...</th>\n",
              "      <th>CoffeeHouse</th>\n",
              "      <th>CarryAway</th>\n",
              "      <th>RestaurantLessThan20</th>\n",
              "      <th>Restaurant20To50</th>\n",
              "      <th>toCoupon_GEQ5min</th>\n",
              "      <th>toCoupon_GEQ15min</th>\n",
              "      <th>toCoupon_GEQ25min</th>\n",
              "      <th>direction_same</th>\n",
              "      <th>direction_opp</th>\n",
              "      <th>Y</th>\n",
              "    </tr>\n",
              "  </thead>\n",
              "  <tbody>\n",
              "    <tr>\n",
              "      <th>24</th>\n",
              "      <td>No Urgent Place</td>\n",
              "      <td>Friend(s)</td>\n",
              "      <td>Sunny</td>\n",
              "      <td>80</td>\n",
              "      <td>10AM</td>\n",
              "      <td>Bar</td>\n",
              "      <td>1d</td>\n",
              "      <td>Male</td>\n",
              "      <td>21</td>\n",
              "      <td>Single</td>\n",
              "      <td>...</td>\n",
              "      <td>less1</td>\n",
              "      <td>4~8</td>\n",
              "      <td>4~8</td>\n",
              "      <td>less1</td>\n",
              "      <td>1</td>\n",
              "      <td>0</td>\n",
              "      <td>0</td>\n",
              "      <td>0</td>\n",
              "      <td>1</td>\n",
              "      <td>1</td>\n",
              "    </tr>\n",
              "    <tr>\n",
              "      <th>35</th>\n",
              "      <td>Home</td>\n",
              "      <td>Alone</td>\n",
              "      <td>Sunny</td>\n",
              "      <td>55</td>\n",
              "      <td>6PM</td>\n",
              "      <td>Bar</td>\n",
              "      <td>1d</td>\n",
              "      <td>Male</td>\n",
              "      <td>21</td>\n",
              "      <td>Single</td>\n",
              "      <td>...</td>\n",
              "      <td>less1</td>\n",
              "      <td>4~8</td>\n",
              "      <td>4~8</td>\n",
              "      <td>less1</td>\n",
              "      <td>1</td>\n",
              "      <td>0</td>\n",
              "      <td>0</td>\n",
              "      <td>1</td>\n",
              "      <td>0</td>\n",
              "      <td>1</td>\n",
              "    </tr>\n",
              "    <tr>\n",
              "      <th>39</th>\n",
              "      <td>Work</td>\n",
              "      <td>Alone</td>\n",
              "      <td>Sunny</td>\n",
              "      <td>55</td>\n",
              "      <td>7AM</td>\n",
              "      <td>Bar</td>\n",
              "      <td>1d</td>\n",
              "      <td>Male</td>\n",
              "      <td>21</td>\n",
              "      <td>Single</td>\n",
              "      <td>...</td>\n",
              "      <td>less1</td>\n",
              "      <td>4~8</td>\n",
              "      <td>4~8</td>\n",
              "      <td>less1</td>\n",
              "      <td>1</td>\n",
              "      <td>1</td>\n",
              "      <td>1</td>\n",
              "      <td>0</td>\n",
              "      <td>1</td>\n",
              "      <td>1</td>\n",
              "    </tr>\n",
              "    <tr>\n",
              "      <th>46</th>\n",
              "      <td>No Urgent Place</td>\n",
              "      <td>Friend(s)</td>\n",
              "      <td>Sunny</td>\n",
              "      <td>80</td>\n",
              "      <td>10AM</td>\n",
              "      <td>Bar</td>\n",
              "      <td>1d</td>\n",
              "      <td>Male</td>\n",
              "      <td>46</td>\n",
              "      <td>Single</td>\n",
              "      <td>...</td>\n",
              "      <td>4~8</td>\n",
              "      <td>1~3</td>\n",
              "      <td>1~3</td>\n",
              "      <td>never</td>\n",
              "      <td>1</td>\n",
              "      <td>0</td>\n",
              "      <td>0</td>\n",
              "      <td>0</td>\n",
              "      <td>1</td>\n",
              "      <td>0</td>\n",
              "    </tr>\n",
              "    <tr>\n",
              "      <th>57</th>\n",
              "      <td>Home</td>\n",
              "      <td>Alone</td>\n",
              "      <td>Sunny</td>\n",
              "      <td>55</td>\n",
              "      <td>6PM</td>\n",
              "      <td>Bar</td>\n",
              "      <td>1d</td>\n",
              "      <td>Male</td>\n",
              "      <td>46</td>\n",
              "      <td>Single</td>\n",
              "      <td>...</td>\n",
              "      <td>4~8</td>\n",
              "      <td>1~3</td>\n",
              "      <td>1~3</td>\n",
              "      <td>never</td>\n",
              "      <td>1</td>\n",
              "      <td>0</td>\n",
              "      <td>0</td>\n",
              "      <td>1</td>\n",
              "      <td>0</td>\n",
              "      <td>0</td>\n",
              "    </tr>\n",
              "  </tbody>\n",
              "</table>\n",
              "<p>5 rows × 26 columns</p>\n",
              "</div>"
            ],
            "text/plain": [
              "        destination  passanger weather  temperature  time coupon expiration  \\\n",
              "24  No Urgent Place  Friend(s)   Sunny           80  10AM    Bar         1d   \n",
              "35             Home      Alone   Sunny           55   6PM    Bar         1d   \n",
              "39             Work      Alone   Sunny           55   7AM    Bar         1d   \n",
              "46  No Urgent Place  Friend(s)   Sunny           80  10AM    Bar         1d   \n",
              "57             Home      Alone   Sunny           55   6PM    Bar         1d   \n",
              "\n",
              "   gender age maritalStatus  ...  CoffeeHouse CarryAway RestaurantLessThan20  \\\n",
              "24   Male  21        Single  ...        less1       4~8                  4~8   \n",
              "35   Male  21        Single  ...        less1       4~8                  4~8   \n",
              "39   Male  21        Single  ...        less1       4~8                  4~8   \n",
              "46   Male  46        Single  ...          4~8       1~3                  1~3   \n",
              "57   Male  46        Single  ...          4~8       1~3                  1~3   \n",
              "\n",
              "   Restaurant20To50 toCoupon_GEQ5min toCoupon_GEQ15min toCoupon_GEQ25min  \\\n",
              "24            less1                1                 0                 0   \n",
              "35            less1                1                 0                 0   \n",
              "39            less1                1                 1                 1   \n",
              "46            never                1                 0                 0   \n",
              "57            never                1                 0                 0   \n",
              "\n",
              "   direction_same direction_opp  Y  \n",
              "24              0             1  1  \n",
              "35              1             0  1  \n",
              "39              0             1  1  \n",
              "46              0             1  0  \n",
              "57              1             0  0  \n",
              "\n",
              "[5 rows x 26 columns]"
            ]
          },
          "execution_count": 97,
          "metadata": {},
          "output_type": "execute_result"
        }
      ],
      "source": [
        "# Let's take a quick sample by picking top 5 records to check if the coupons are filtered for bar\n",
        "\n",
        "df_bar_coupons.head()"
      ]
    },
    {
      "cell_type": "code",
      "execution_count": 98,
      "metadata": {},
      "outputs": [
        {
          "data": {
            "text/plain": [
              "(1913, 26)"
            ]
          },
          "execution_count": 98,
          "metadata": {},
          "output_type": "execute_result"
        }
      ],
      "source": [
        "# Let's also check the size of the new filtered dataframe, in terms of rows and columns\n",
        "\n",
        "df_bar_coupons.shape"
      ]
    },
    {
      "cell_type": "markdown",
      "metadata": {
        "id": "8ue6uCqf_qRJ"
      },
      "source": [
        "2. What proportion of bar coupons were accepted?\n"
      ]
    },
    {
      "cell_type": "code",
      "execution_count": 99,
      "metadata": {
        "id": "hSdte8Mi_qRK"
      },
      "outputs": [
        {
          "data": {
            "text/plain": [
              "41.19"
            ]
          },
          "execution_count": 99,
          "metadata": {},
          "output_type": "execute_result"
        }
      ],
      "source": [
        "# Lets first calculate the bar coupon accepted count\n",
        "\n",
        "bar_coupon_accepted = df_bar_coupons['Y'].value_counts()[1]\n",
        "\n",
        "# Lets calculate the total bar coupon offered count\n",
        "\n",
        "total_bar_coupon_offered = df_bar_coupons['Y'].count()\n",
        "\n",
        "# Lets calculate the proportion of bar coupon acceptance from above values\n",
        "\n",
        "proportion_of_bar_coupon_acceptance = round((bar_coupon_accepted/total_bar_coupon_offered)*100,2)\n",
        "\n",
        "proportion_of_bar_coupon_acceptance"
      ]
    },
    {
      "cell_type": "code",
      "execution_count": 100,
      "metadata": {},
      "outputs": [
        {
          "data": {
            "text/plain": [
              "58.81"
            ]
          },
          "execution_count": 100,
          "metadata": {},
          "output_type": "execute_result"
        }
      ],
      "source": [
        "# Lets first calculate the bar coupon not accepted count\n",
        "\n",
        "bar_coupon_not_accepted = df_bar_coupons['Y'].value_counts()[0]\n",
        "\n",
        "# Lets calculate the total bar coupon offered count\n",
        "\n",
        "total_bar_coupon_offered = df_bar_coupons['Y'].count()\n",
        "\n",
        "# Lets calculate the proportion of bar coupon acceptance from above values\n",
        "\n",
        "proportion_of_bar_coupon_not_accepted = round((bar_coupon_not_accepted/total_bar_coupon_offered)*100,2)\n",
        "\n",
        "proportion_of_bar_coupon_not_accepted"
      ]
    },
    {
      "cell_type": "code",
      "execution_count": 101,
      "metadata": {},
      "outputs": [
        {
          "data": {
            "image/png": "[encoded data removed]",
            "text/plain": [
              "<Figure size 1500x1000 with 1 Axes>"
            ]
          },
          "metadata": {},
          "output_type": "display_data"
        }
      ],
      "source": [
        "#define data\n",
        "data = [proportion_of_bar_coupon_acceptance, proportion_of_bar_coupon_not_accepted]\n",
        "labels = ['bar coupon accepted', 'bar coupon not accepted']\n",
        "\n",
        "#define Seaborn color palette to use\n",
        "colors = sns.color_palette('pastel')[0:2]\n",
        "\n",
        "#create pie chart\n",
        "plt.pie(data, labels = labels, colors = colors, autopct='%.0f%%')\n",
        "plt.title('bar_coupon_acceptance - overall')\n",
        "plt.show()"
      ]
    },
    {
      "cell_type": "markdown",
      "metadata": {
        "id": "85nA_iEi_qRK"
      },
      "source": [
        "3. Compare the acceptance rate between those who went to a bar 3 or fewer times a month to those who went more.\n"
      ]
    },
    {
      "cell_type": "code",
      "execution_count": 102,
      "metadata": {
        "id": "LBOrN-XM_qRK"
      },
      "outputs": [
        {
          "data": {
            "text/plain": [
              "array(['never', 'less1', '1~3', 'gt8', '4~8'], dtype=object)"
            ]
          },
          "execution_count": 102,
          "metadata": {},
          "output_type": "execute_result"
        }
      ],
      "source": [
        "# Let's find all the unique values for the Bar column\n",
        "\n",
        "df_bar_coupons['Bar'].unique()"
      ]
    },
    {
      "cell_type": "code",
      "execution_count": 103,
      "metadata": {},
      "outputs": [
        {
          "data": {
            "text/plain": [
              "Bar_More_Frequent\n",
              "0    1720\n",
              "1     193\n",
              "Name: count, dtype: int64"
            ]
          },
          "execution_count": 103,
          "metadata": {},
          "output_type": "execute_result"
        }
      ],
      "source": [
        "# Let's create a simple list to keep only more frequent entries\n",
        "\n",
        "more_frequent = ['gt8', '4~8']\n",
        "\n",
        "# Now, use the list and create a new column with condition based\n",
        "\n",
        "df_bar_coupons['Bar_More_Frequent'] = np.where(df_bar_coupons['Bar'].isin(['gt8', '4~8']), 1, 0)\n",
        "\n",
        "# Now, validate where the new column is present and the value counts are as expected\n",
        "\n",
        "df_bar_coupons['Bar_More_Frequent'].value_counts()\n",
        "\n",
        "# This column now simply says whether a person is a frequent visitor to the bar or not"
      ]
    },
    {
      "cell_type": "code",
      "execution_count": 104,
      "metadata": {},
      "outputs": [],
      "source": [
        "# Total who went to bar frequently = 193\n",
        "# Total who did not go to bar frequently = 1720"
      ]
    },
    {
      "cell_type": "code",
      "execution_count": 105,
      "metadata": {},
      "outputs": [
        {
          "data": {
            "text/plain": [
              "76.17"
            ]
          },
          "execution_count": 105,
          "metadata": {},
          "output_type": "execute_result"
        }
      ],
      "source": [
        "# Lets first calculate the bar coupon accepted count for frequent visitors\n",
        "\n",
        "bar_coupon_accepted_more_frequent_visitors = df_bar_coupons.query(\"Bar_More_Frequent == 1\")['Y'].value_counts()[1]\n",
        "\n",
        "# Lets calculate the total bar coupon offered count for frequent visitors\n",
        "\n",
        "total_bar_coupon_offered_frequent_visitors = df_bar_coupons.query(\"Bar_More_Frequent == 1\")['Y'].count()\n",
        "\n",
        "# Lets calculate the proportion of bar coupon acceptance from above values for frequent visitors\n",
        "\n",
        "proportion_of_bar_coupon_acceptance_frequent_visitors = round((bar_coupon_accepted_more_frequent_visitors/total_bar_coupon_offered_frequent_visitors)*100,2)\n",
        "\n",
        "proportion_of_bar_coupon_acceptance_frequent_visitors"
      ]
    },
    {
      "cell_type": "code",
      "execution_count": 106,
      "metadata": {},
      "outputs": [
        {
          "data": {
            "text/plain": [
              "37.27"
            ]
          },
          "execution_count": 106,
          "metadata": {},
          "output_type": "execute_result"
        }
      ],
      "source": [
        "# Lets first calculate the bar coupon accepted count for less frequent visitors\n",
        "\n",
        "bar_coupon_accepted_less_frequent_visitors = df_bar_coupons.query(\"Bar_More_Frequent == 0\")['Y'].value_counts()[1]\n",
        "\n",
        "# Lets calculate the total bar coupon offered count for less frequent visitors\n",
        "\n",
        "total_bar_coupon_offered_less_frequent_visitors = df_bar_coupons.query(\"Bar_More_Frequent == 0\")['Y'].count()\n",
        "\n",
        "# Lets calculate the proportion of bar coupon acceptance from above values for less frequent visitors\n",
        "\n",
        "proportion_of_bar_coupon_acceptance_less_frequent_visitors = round((bar_coupon_accepted_less_frequent_visitors/total_bar_coupon_offered_less_frequent_visitors)*100,2)\n",
        "\n",
        "proportion_of_bar_coupon_acceptance_less_frequent_visitors"
      ]
    },
    {
      "cell_type": "markdown",
      "metadata": {},
      "source": [
        "@Finding\n",
        "\n",
        "From above, we can find the 'frequent visitors' to bar have accepted the coupons to the most (76%) compared to 'less frequent visitors' who have showed only less interest (37%)"
      ]
    },
    {
      "cell_type": "code",
      "execution_count": 107,
      "metadata": {},
      "outputs": [
        {
          "data": {
            "image/png": "[encoded data removed]",
            "text/plain": [
              "<Figure size 1500x1000 with 1 Axes>"
            ]
          },
          "metadata": {},
          "output_type": "display_data"
        }
      ],
      "source": [
        "#define data\n",
        "data = [proportion_of_bar_coupon_acceptance_frequent_visitors, proportion_of_bar_coupon_acceptance_less_frequent_visitors]\n",
        "labels = ['frequent_visitors', 'less_frequent_visitors']\n",
        "\n",
        "#define Seaborn color palette to use\n",
        "colors = sns.color_palette('pastel')[0:2]\n",
        "\n",
        "#create pie chart\n",
        "plt.pie(data, labels = labels, colors = colors, autopct='%.0f%%')\n",
        "plt.title('bar_coupon_acceptance - frequent vs in-frequent visitors')\n",
        "plt.show()"
      ]
    },
    {
      "cell_type": "markdown",
      "metadata": {
        "id": "RBgcQwH4_qRK"
      },
      "source": [
        "4. Compare the acceptance rate between drivers who go to a bar more than once a month and are over the age of 25 to the all others.  Is there a difference?\n"
      ]
    },
    {
      "cell_type": "code",
      "execution_count": 109,
      "metadata": {
        "id": "bf28bbeX_qRK"
      },
      "outputs": [],
      "source": [
        "# Let's create a function that checks for both the conditions and return 1 or 0\n",
        "\n",
        "def conditions(s):\n",
        "    if s['Bar'] in ['1~3', 'gt8', '4~8'] and s['age'] in ['46', '26', '31', '41', '50plus', '36']:\n",
        "        return 1\n",
        "    else:\n",
        "        return 0\n",
        "    \n",
        "# Let's create a new column based on the function above\n",
        "\n",
        "df_bar_coupons['Bar_Frequent_Age'] = df_bar_coupons.apply(conditions, axis=1)"
      ]
    },
    {
      "cell_type": "code",
      "execution_count": 110,
      "metadata": {},
      "outputs": [
        {
          "data": {
            "text/html": [
              "<div>\n",
              "<style scoped>\n",
              "    .dataframe tbody tr th:only-of-type {\n",
              "        vertical-align: middle;\n",
              "    }\n",
              "\n",
              "    .dataframe tbody tr th {\n",
              "        vertical-align: top;\n",
              "    }\n",
              "\n",
              "    .dataframe thead th {\n",
              "        text-align: right;\n",
              "    }\n",
              "</style>\n",
              "<table border=\"1\" class=\"dataframe\">\n",
              "  <thead>\n",
              "    <tr style=\"text-align: right;\">\n",
              "      <th></th>\n",
              "      <th>Bar</th>\n",
              "      <th>age</th>\n",
              "      <th>Bar_Frequent_Age</th>\n",
              "    </tr>\n",
              "  </thead>\n",
              "  <tbody>\n",
              "    <tr>\n",
              "      <th>10415</th>\n",
              "      <td>less1</td>\n",
              "      <td>26</td>\n",
              "      <td>0</td>\n",
              "    </tr>\n",
              "    <tr>\n",
              "      <th>9176</th>\n",
              "      <td>never</td>\n",
              "      <td>31</td>\n",
              "      <td>0</td>\n",
              "    </tr>\n",
              "    <tr>\n",
              "      <th>1892</th>\n",
              "      <td>less1</td>\n",
              "      <td>21</td>\n",
              "      <td>0</td>\n",
              "    </tr>\n",
              "    <tr>\n",
              "      <th>580</th>\n",
              "      <td>4~8</td>\n",
              "      <td>31</td>\n",
              "      <td>1</td>\n",
              "    </tr>\n",
              "    <tr>\n",
              "      <th>2002</th>\n",
              "      <td>never</td>\n",
              "      <td>21</td>\n",
              "      <td>0</td>\n",
              "    </tr>\n",
              "    <tr>\n",
              "      <th>11521</th>\n",
              "      <td>never</td>\n",
              "      <td>below21</td>\n",
              "      <td>0</td>\n",
              "    </tr>\n",
              "    <tr>\n",
              "      <th>7671</th>\n",
              "      <td>never</td>\n",
              "      <td>36</td>\n",
              "      <td>0</td>\n",
              "    </tr>\n",
              "    <tr>\n",
              "      <th>12338</th>\n",
              "      <td>never</td>\n",
              "      <td>31</td>\n",
              "      <td>0</td>\n",
              "    </tr>\n",
              "    <tr>\n",
              "      <th>10354</th>\n",
              "      <td>1~3</td>\n",
              "      <td>21</td>\n",
              "      <td>0</td>\n",
              "    </tr>\n",
              "    <tr>\n",
              "      <th>591</th>\n",
              "      <td>4~8</td>\n",
              "      <td>26</td>\n",
              "      <td>1</td>\n",
              "    </tr>\n",
              "  </tbody>\n",
              "</table>\n",
              "</div>"
            ],
            "text/plain": [
              "         Bar      age  Bar_Frequent_Age\n",
              "10415  less1       26                 0\n",
              "9176   never       31                 0\n",
              "1892   less1       21                 0\n",
              "580      4~8       31                 1\n",
              "2002   never       21                 0\n",
              "11521  never  below21                 0\n",
              "7671   never       36                 0\n",
              "12338  never       31                 0\n",
              "10354    1~3       21                 0\n",
              "591      4~8       26                 1"
            ]
          },
          "execution_count": 110,
          "metadata": {},
          "output_type": "execute_result"
        }
      ],
      "source": [
        "# Let's validate the outcome whether it works based on the conditions applied\n",
        "\n",
        "df_bar_coupons[['Bar','age','Bar_Frequent_Age']].sample(10)"
      ]
    },
    {
      "cell_type": "code",
      "execution_count": 111,
      "metadata": {},
      "outputs": [
        {
          "data": {
            "text/plain": [
              "68.98"
            ]
          },
          "execution_count": 111,
          "metadata": {},
          "output_type": "execute_result"
        }
      ],
      "source": [
        "# Lets first calculate the bar coupon accepted count for high frequent vistors with elderly age\n",
        "\n",
        "bar_coupon_accepted_more_frequent_visitors_elder_age = df_bar_coupons.query(\"Bar_Frequent_Age == 1\")['Y'].value_counts()[1]\n",
        "\n",
        "# Lets calculate the total bar coupon offered count for frequent visitors with elderly age\n",
        "\n",
        "total_bar_coupon_offered_frequent_visitors_elder_age = df_bar_coupons.query(\"Bar_Frequent_Age == 1\")['Y'].count()\n",
        "\n",
        "# Lets calculate the proportion of bar coupon acceptance from above values for frequent visitors with elderly age\n",
        "\n",
        "proportion_of_bar_coupon_acceptance_frequent_visitors_elderly_age = round((bar_coupon_accepted_more_frequent_visitors_elder_age/total_bar_coupon_offered_frequent_visitors_elder_age)*100,2)\n",
        "\n",
        "proportion_of_bar_coupon_acceptance_frequent_visitors_elderly_age"
      ]
    },
    {
      "cell_type": "code",
      "execution_count": 112,
      "metadata": {},
      "outputs": [
        {
          "data": {
            "text/plain": [
              "33.77"
            ]
          },
          "execution_count": 112,
          "metadata": {},
          "output_type": "execute_result"
        }
      ],
      "source": [
        "# Lets first calculate the bar coupon accepted count for less frequent vistors with younger age\n",
        "\n",
        "bar_coupon_accepted_less_frequent_visitors_younger_age = df_bar_coupons.query(\"Bar_Frequent_Age == 0\")['Y'].value_counts()[1]\n",
        "\n",
        "# Lets calculate the total bar coupon offered count for less frequent vistors with younger age\n",
        "\n",
        "total_bar_coupon_offered_less_frequent_visitors_younger_age = df_bar_coupons.query(\"Bar_Frequent_Age == 0\")['Y'].count()\n",
        "\n",
        "# Lets calculate the proportion of bar coupon acceptance from above values for less frequent vistors with younger age\n",
        "\n",
        "proportion_of_bar_coupon_acceptance_less_frequent_visitors_younger_age = round((bar_coupon_accepted_less_frequent_visitors_younger_age/total_bar_coupon_offered_less_frequent_visitors_younger_age)*100,2)\n",
        "\n",
        "proportion_of_bar_coupon_acceptance_less_frequent_visitors_younger_age"
      ]
    },
    {
      "cell_type": "markdown",
      "metadata": {},
      "source": [
        "@Finding\n",
        "\n",
        "From above, we can find the 'frequent elderly visitors' to bar have accepted the coupons to the most (69%) compared to 'less frequent young visitors' who have showed only less interest (33%)"
      ]
    },
    {
      "cell_type": "code",
      "execution_count": 114,
      "metadata": {},
      "outputs": [
        {
          "data": {
            "image/png": "[encoded data removed]",
            "text/plain": [
              "<Figure size 1500x1000 with 1 Axes>"
            ]
          },
          "metadata": {},
          "output_type": "display_data"
        }
      ],
      "source": [
        "#define data\n",
        "data = [proportion_of_bar_coupon_acceptance_frequent_visitors_elderly_age, proportion_of_bar_coupon_acceptance_less_frequent_visitors_younger_age]\n",
        "labels = ['frequent_visitors_elder', 'less_frequent_visitors_younger']\n",
        "\n",
        "#define Seaborn color palette to use\n",
        "colors = sns.color_palette('pastel')[0:2]\n",
        "\n",
        "#create pie chart\n",
        "plt.pie(data, labels = labels, colors = colors, autopct='%.0f%%')\n",
        "plt.title('bar_coupon_acceptance - frequent elders vs in-frequent youngers')\n",
        "plt.show()\n"
      ]
    },
    {
      "cell_type": "markdown",
      "metadata": {
        "id": "S4RKT4PJ_qRK"
      },
      "source": [
        "5. Use the same process to compare the acceptance rate between drivers who go to bars more than once a month and had passengers that were not a kid and had occupations other than farming, fishing, or forestry.\n"
      ]
    },
    {
      "cell_type": "code",
      "execution_count": 115,
      "metadata": {
        "id": "sENaI2Tg_qRK"
      },
      "outputs": [
        {
          "data": {
            "text/plain": [
              "array(['21', '46', '26', '31', '41', '50plus', '36', 'below21'],\n",
              "      dtype=object)"
            ]
          },
          "execution_count": 115,
          "metadata": {},
          "output_type": "execute_result"
        }
      ],
      "source": [
        "df_bar_coupons['age'].unique()\n"
      ]
    },
    {
      "cell_type": "code",
      "execution_count": 116,
      "metadata": {},
      "outputs": [
        {
          "data": {
            "text/plain": [
              "array(['Architecture & Engineering', 'Student',\n",
              "       'Education&Training&Library', 'Unemployed', 'Healthcare Support',\n",
              "       'Healthcare Practitioners & Technical', 'Sales & Related',\n",
              "       'Management', 'Arts Design Entertainment Sports & Media',\n",
              "       'Computer & Mathematical', 'Life Physical Social Science',\n",
              "       'Personal Care & Service', 'Office & Administrative Support',\n",
              "       'Construction & Extraction', 'Legal', 'Retired',\n",
              "       'Community & Social Services', 'Installation Maintenance & Repair',\n",
              "       'Transportation & Material Moving', 'Business & Financial',\n",
              "       'Protective Service', 'Food Preparation & Serving Related',\n",
              "       'Production Occupations',\n",
              "       'Building & Grounds Cleaning & Maintenance',\n",
              "       'Farming Fishing & Forestry'], dtype=object)"
            ]
          },
          "execution_count": 116,
          "metadata": {},
          "output_type": "execute_result"
        }
      ],
      "source": [
        "df_bar_coupons['occupation'].unique()\n"
      ]
    },
    {
      "cell_type": "code",
      "execution_count": 117,
      "metadata": {},
      "outputs": [],
      "source": [
        "# Let's create a function that checks for all 3 conditions and return 1 or 0\n",
        "\n",
        "def conditions(s):\n",
        "    if s['Bar'] in ['1~3', 'gt8', '4~8'] and s['age'] in ['21','46', '26', '31', '41', '50plus', '36'] and s['occupation'] not in ['Farming Fishing & Forestry']:\n",
        "        return 1\n",
        "    else:\n",
        "        return 0\n",
        "    \n",
        "# Let's create a new column based on the function above\n",
        "\n",
        "df_bar_coupons['Bar_Frequent_Age_Job'] = df_bar_coupons.apply(conditions, axis=1)"
      ]
    },
    {
      "cell_type": "code",
      "execution_count": 118,
      "metadata": {},
      "outputs": [
        {
          "data": {
            "text/html": [
              "<div>\n",
              "<style scoped>\n",
              "    .dataframe tbody tr th:only-of-type {\n",
              "        vertical-align: middle;\n",
              "    }\n",
              "\n",
              "    .dataframe tbody tr th {\n",
              "        vertical-align: top;\n",
              "    }\n",
              "\n",
              "    .dataframe thead th {\n",
              "        text-align: right;\n",
              "    }\n",
              "</style>\n",
              "<table border=\"1\" class=\"dataframe\">\n",
              "  <thead>\n",
              "    <tr style=\"text-align: right;\">\n",
              "      <th></th>\n",
              "      <th>Bar</th>\n",
              "      <th>age</th>\n",
              "      <th>occupation</th>\n",
              "      <th>Bar_Frequent_Age_Job</th>\n",
              "    </tr>\n",
              "  </thead>\n",
              "  <tbody>\n",
              "    <tr>\n",
              "      <th>11804</th>\n",
              "      <td>never</td>\n",
              "      <td>36</td>\n",
              "      <td>Computer &amp; Mathematical</td>\n",
              "      <td>0</td>\n",
              "    </tr>\n",
              "    <tr>\n",
              "      <th>6092</th>\n",
              "      <td>1~3</td>\n",
              "      <td>21</td>\n",
              "      <td>Food Preparation &amp; Serving Related</td>\n",
              "      <td>1</td>\n",
              "    </tr>\n",
              "    <tr>\n",
              "      <th>11457</th>\n",
              "      <td>never</td>\n",
              "      <td>41</td>\n",
              "      <td>Education&amp;Training&amp;Library</td>\n",
              "      <td>0</td>\n",
              "    </tr>\n",
              "    <tr>\n",
              "      <th>6316</th>\n",
              "      <td>less1</td>\n",
              "      <td>31</td>\n",
              "      <td>Computer &amp; Mathematical</td>\n",
              "      <td>0</td>\n",
              "    </tr>\n",
              "    <tr>\n",
              "      <th>195</th>\n",
              "      <td>less1</td>\n",
              "      <td>21</td>\n",
              "      <td>Sales &amp; Related</td>\n",
              "      <td>0</td>\n",
              "    </tr>\n",
              "    <tr>\n",
              "      <th>4599</th>\n",
              "      <td>never</td>\n",
              "      <td>36</td>\n",
              "      <td>Education&amp;Training&amp;Library</td>\n",
              "      <td>0</td>\n",
              "    </tr>\n",
              "    <tr>\n",
              "      <th>5215</th>\n",
              "      <td>never</td>\n",
              "      <td>31</td>\n",
              "      <td>Education&amp;Training&amp;Library</td>\n",
              "      <td>0</td>\n",
              "    </tr>\n",
              "    <tr>\n",
              "      <th>9334</th>\n",
              "      <td>never</td>\n",
              "      <td>46</td>\n",
              "      <td>Office &amp; Administrative Support</td>\n",
              "      <td>0</td>\n",
              "    </tr>\n",
              "    <tr>\n",
              "      <th>620</th>\n",
              "      <td>never</td>\n",
              "      <td>21</td>\n",
              "      <td>Student</td>\n",
              "      <td>0</td>\n",
              "    </tr>\n",
              "    <tr>\n",
              "      <th>3839</th>\n",
              "      <td>never</td>\n",
              "      <td>50plus</td>\n",
              "      <td>Arts Design Entertainment Sports &amp; Media</td>\n",
              "      <td>0</td>\n",
              "    </tr>\n",
              "  </tbody>\n",
              "</table>\n",
              "</div>"
            ],
            "text/plain": [
              "         Bar     age                                occupation  \\\n",
              "11804  never      36                   Computer & Mathematical   \n",
              "6092     1~3      21        Food Preparation & Serving Related   \n",
              "11457  never      41                Education&Training&Library   \n",
              "6316   less1      31                   Computer & Mathematical   \n",
              "195    less1      21                           Sales & Related   \n",
              "4599   never      36                Education&Training&Library   \n",
              "5215   never      31                Education&Training&Library   \n",
              "9334   never      46           Office & Administrative Support   \n",
              "620    never      21                                   Student   \n",
              "3839   never  50plus  Arts Design Entertainment Sports & Media   \n",
              "\n",
              "       Bar_Frequent_Age_Job  \n",
              "11804                     0  \n",
              "6092                      1  \n",
              "11457                     0  \n",
              "6316                      0  \n",
              "195                       0  \n",
              "4599                      0  \n",
              "5215                      0  \n",
              "9334                      0  \n",
              "620                       0  \n",
              "3839                      0  "
            ]
          },
          "execution_count": 118,
          "metadata": {},
          "output_type": "execute_result"
        }
      ],
      "source": [
        "# Let's validate the outcome whether it works based on the conditions applied\n",
        "\n",
        "df_bar_coupons[['Bar','age','occupation','Bar_Frequent_Age_Job']].sample(10)\n"
      ]
    },
    {
      "cell_type": "code",
      "execution_count": 119,
      "metadata": {},
      "outputs": [
        {
          "data": {
            "text/plain": [
              "69.04"
            ]
          },
          "execution_count": 119,
          "metadata": {},
          "output_type": "execute_result"
        }
      ],
      "source": [
        "# Lets first calculate the bar coupon accepted count for high frequent vistors with elderly age and not farming/fishing job\n",
        "\n",
        "bar_coupon_accepted_more_frequent_visitors_elder_age_job = df_bar_coupons.query(\"Bar_Frequent_Age_Job == 1\")['Y'].value_counts()[1]\n",
        "\n",
        "# Lets calculate the total bar coupon offered count for frequent visitors with elderly age and not farming/fishing job\n",
        "\n",
        "total_bar_coupon_offered_frequent_visitors_elder_age_job = df_bar_coupons.query(\"Bar_Frequent_Age_Job == 1\")['Y'].count()\n",
        "\n",
        "# Lets calculate the proportion of bar coupon acceptance from above values for frequent visitors with elderly age and not farming/fishing job\n",
        "\n",
        "proportion_of_bar_coupon_acceptance_frequent_visitors_elderly_age_job = round((bar_coupon_accepted_more_frequent_visitors_elder_age_job/total_bar_coupon_offered_frequent_visitors_elder_age_job)*100,2)\n",
        "\n",
        "proportion_of_bar_coupon_acceptance_frequent_visitors_elderly_age_job"
      ]
    },
    {
      "cell_type": "code",
      "execution_count": 120,
      "metadata": {},
      "outputs": [
        {
          "data": {
            "text/plain": [
              "29.61"
            ]
          },
          "execution_count": 120,
          "metadata": {},
          "output_type": "execute_result"
        }
      ],
      "source": [
        "# Lets first calculate the bar coupon accepted count for less frequent vistors with younger age and specific job\n",
        "\n",
        "bar_coupon_accepted_less_frequent_visitors_younger_age_job = df_bar_coupons.query(\"Bar_Frequent_Age_Job == 0\")['Y'].value_counts()[1]\n",
        "\n",
        "# Lets calculate the total bar coupon offered count for less frequent vistors with younger age and specific job\n",
        "\n",
        "total_bar_coupon_offered_less_frequent_visitors_younger_age_job = df_bar_coupons.query(\"Bar_Frequent_Age_Job == 0\")['Y'].count()\n",
        "\n",
        "# Lets calculate the proportion of bar coupon acceptance from above values for less frequent vistors with younger age and specific job\n",
        "\n",
        "proportion_of_bar_coupon_acceptance_less_frequent_visitors_younger_age_job = round((bar_coupon_accepted_less_frequent_visitors_younger_age_job/total_bar_coupon_offered_less_frequent_visitors_younger_age_job)*100,2)\n",
        "\n",
        "proportion_of_bar_coupon_acceptance_less_frequent_visitors_younger_age_job"
      ]
    },
    {
      "cell_type": "markdown",
      "metadata": {},
      "source": [
        "@Finding\n",
        "\n",
        "From above, we can find the 'frequent elderly visitors without farming/fishing/forestry job' to bar have accepted the coupons to the most (70%) compared to 'less frequent young visitors with farming/fishing/forestry job' who have showed only less interest (30%)"
      ]
    },
    {
      "cell_type": "code",
      "execution_count": 121,
      "metadata": {},
      "outputs": [
        {
          "data": {
            "image/png": "[encoded data removed]",
            "text/plain": [
              "<Figure size 1500x1000 with 1 Axes>"
            ]
          },
          "metadata": {},
          "output_type": "display_data"
        }
      ],
      "source": [
        "#define data\n",
        "data = [proportion_of_bar_coupon_acceptance_frequent_visitors_elderly_age_job, proportion_of_bar_coupon_acceptance_less_frequent_visitors_younger_age_job]\n",
        "labels = ['frequent_visitors_elder_no_fishing', 'less_frequent_visitors_younger_fishing']\n",
        "\n",
        "#define Seaborn color palette to use\n",
        "colors = sns.color_palette('pastel')[0:2]\n",
        "\n",
        "#create pie chart\n",
        "plt.pie(data, labels = labels, colors = colors, autopct='%.0f%%')\n",
        "plt.title('bar_coupon_acceptance - frequent elders not in fishing/farming/forestry vs in-frequent youngers')\n",
        "plt.show()"
      ]
    },
    {
      "cell_type": "markdown",
      "metadata": {
        "id": "n2LIUTil_qRK"
      },
      "source": [
        "6. Compare the acceptance rates between those drivers who:\n",
        "\n",
        "- go to bars more than once a month, had passengers that were not a kid, and were not widowed *OR*\n",
        "- go to bars more than once a month and are under the age of 30 *OR*\n",
        "- go to cheap restaurants more than 4 times a month and income is less than 50K.\n",
        "\n"
      ]
    },
    {
      "cell_type": "code",
      "execution_count": 122,
      "metadata": {
        "id": "aK_wEzx7_qRK"
      },
      "outputs": [
        {
          "data": {
            "text/plain": [
              "array(['Single', 'Married partner', 'Unmarried partner', 'Divorced',\n",
              "       'Widowed'], dtype=object)"
            ]
          },
          "execution_count": 122,
          "metadata": {},
          "output_type": "execute_result"
        }
      ],
      "source": [
        "df_bar_coupons['maritalStatus'].unique()\n"
      ]
    },
    {
      "cell_type": "code",
      "execution_count": 123,
      "metadata": {},
      "outputs": [],
      "source": [
        "# Let's create a function that checks for all first 3 conditions and return 1 or 0\n",
        "\n",
        "def conditions(s):\n",
        "    if s['Bar'] in ['1~3', 'gt8', '4~8'] and s['age'] in ['21','46', '26', '31', '41', '50plus', '36'] and s['maritalStatus'] not in ['Widowed']:\n",
        "        return 1\n",
        "    else:\n",
        "        return 0\n",
        "    \n",
        "# Let's create a new column based on the function above\n",
        "\n",
        "df_bar_coupons['Bar_Frequent_Age_Marital'] = df_bar_coupons.apply(conditions, axis=1)"
      ]
    },
    {
      "cell_type": "code",
      "execution_count": 124,
      "metadata": {},
      "outputs": [
        {
          "data": {
            "text/html": [
              "<div>\n",
              "<style scoped>\n",
              "    .dataframe tbody tr th:only-of-type {\n",
              "        vertical-align: middle;\n",
              "    }\n",
              "\n",
              "    .dataframe tbody tr th {\n",
              "        vertical-align: top;\n",
              "    }\n",
              "\n",
              "    .dataframe thead th {\n",
              "        text-align: right;\n",
              "    }\n",
              "</style>\n",
              "<table border=\"1\" class=\"dataframe\">\n",
              "  <thead>\n",
              "    <tr style=\"text-align: right;\">\n",
              "      <th></th>\n",
              "      <th>Bar</th>\n",
              "      <th>age</th>\n",
              "      <th>maritalStatus</th>\n",
              "      <th>Bar_Frequent_Age_Marital</th>\n",
              "    </tr>\n",
              "  </thead>\n",
              "  <tbody>\n",
              "    <tr>\n",
              "      <th>10735</th>\n",
              "      <td>never</td>\n",
              "      <td>21</td>\n",
              "      <td>Married partner</td>\n",
              "      <td>0</td>\n",
              "    </tr>\n",
              "    <tr>\n",
              "      <th>11625</th>\n",
              "      <td>less1</td>\n",
              "      <td>41</td>\n",
              "      <td>Married partner</td>\n",
              "      <td>0</td>\n",
              "    </tr>\n",
              "    <tr>\n",
              "      <th>9872</th>\n",
              "      <td>less1</td>\n",
              "      <td>36</td>\n",
              "      <td>Single</td>\n",
              "      <td>0</td>\n",
              "    </tr>\n",
              "    <tr>\n",
              "      <th>1046</th>\n",
              "      <td>never</td>\n",
              "      <td>50plus</td>\n",
              "      <td>Unmarried partner</td>\n",
              "      <td>0</td>\n",
              "    </tr>\n",
              "    <tr>\n",
              "      <th>2214</th>\n",
              "      <td>4~8</td>\n",
              "      <td>36</td>\n",
              "      <td>Married partner</td>\n",
              "      <td>1</td>\n",
              "    </tr>\n",
              "    <tr>\n",
              "      <th>3450</th>\n",
              "      <td>never</td>\n",
              "      <td>below21</td>\n",
              "      <td>Single</td>\n",
              "      <td>0</td>\n",
              "    </tr>\n",
              "    <tr>\n",
              "      <th>12417</th>\n",
              "      <td>1~3</td>\n",
              "      <td>31</td>\n",
              "      <td>Married partner</td>\n",
              "      <td>1</td>\n",
              "    </tr>\n",
              "    <tr>\n",
              "      <th>11999</th>\n",
              "      <td>4~8</td>\n",
              "      <td>21</td>\n",
              "      <td>Single</td>\n",
              "      <td>1</td>\n",
              "    </tr>\n",
              "    <tr>\n",
              "      <th>9180</th>\n",
              "      <td>never</td>\n",
              "      <td>31</td>\n",
              "      <td>Single</td>\n",
              "      <td>0</td>\n",
              "    </tr>\n",
              "    <tr>\n",
              "      <th>825</th>\n",
              "      <td>never</td>\n",
              "      <td>46</td>\n",
              "      <td>Married partner</td>\n",
              "      <td>0</td>\n",
              "    </tr>\n",
              "  </tbody>\n",
              "</table>\n",
              "</div>"
            ],
            "text/plain": [
              "         Bar      age      maritalStatus  Bar_Frequent_Age_Marital\n",
              "10735  never       21    Married partner                         0\n",
              "11625  less1       41    Married partner                         0\n",
              "9872   less1       36             Single                         0\n",
              "1046   never   50plus  Unmarried partner                         0\n",
              "2214     4~8       36    Married partner                         1\n",
              "3450   never  below21             Single                         0\n",
              "12417    1~3       31    Married partner                         1\n",
              "11999    4~8       21             Single                         1\n",
              "9180   never       31             Single                         0\n",
              "825    never       46    Married partner                         0"
            ]
          },
          "execution_count": 124,
          "metadata": {},
          "output_type": "execute_result"
        }
      ],
      "source": [
        "# Let's validate the outcome whether it works based on the conditions applied\n",
        "\n",
        "df_bar_coupons[['Bar','age','maritalStatus','Bar_Frequent_Age_Marital']].sample(10)"
      ]
    },
    {
      "cell_type": "code",
      "execution_count": 126,
      "metadata": {},
      "outputs": [
        {
          "data": {
            "text/plain": [
              "69.04"
            ]
          },
          "execution_count": 126,
          "metadata": {},
          "output_type": "execute_result"
        }
      ],
      "source": [
        "# Lets first calculate the bar coupon accepted count for high frequent vistors with elderly age and not widowed\n",
        "\n",
        "bar_coupon_accepted_more_frequent_visitors_elder_age_not_widowed = df_bar_coupons.query(\"Bar_Frequent_Age_Marital == 1\")['Y'].value_counts()[1]\n",
        "\n",
        "# Lets calculate the total bar coupon offered count for frequent visitors with elderly age and not widowed\n",
        "\n",
        "total_bar_coupon_offered_frequent_visitors_elder_age_not_widowed = df_bar_coupons.query(\"Bar_Frequent_Age_Marital == 1\")['Y'].count()\n",
        "\n",
        "# Lets calculate the proportion of bar coupon acceptance from above values for frequent visitors with elderly age and not widowed\n",
        "\n",
        "proportion_of_bar_coupon_acceptance_frequent_visitors_elderly_age_not_widowed = round((bar_coupon_accepted_more_frequent_visitors_elder_age_not_widowed/total_bar_coupon_offered_frequent_visitors_elder_age_not_widowed)*100,2)\n",
        "\n",
        "proportion_of_bar_coupon_acceptance_frequent_visitors_elderly_age_not_widowed"
      ]
    },
    {
      "cell_type": "code",
      "execution_count": 127,
      "metadata": {},
      "outputs": [],
      "source": [
        "# Let's create a function that checks for all second 2 conditions and return 1 or 0\n",
        "\n",
        "def conditions(s):\n",
        "    if s['Bar'] in ['1~3', 'gt8', '4~8'] and s['age'] in ['below21', '21', '26']:\n",
        "        return 1\n",
        "    else:\n",
        "        return 0\n",
        "    \n",
        "# Let's create a new column based on the function above\n",
        "\n",
        "df_bar_coupons['Bar_Frequent_Age_30'] = df_bar_coupons.apply(conditions, axis=1)"
      ]
    },
    {
      "cell_type": "code",
      "execution_count": 128,
      "metadata": {},
      "outputs": [
        {
          "data": {
            "text/html": [
              "<div>\n",
              "<style scoped>\n",
              "    .dataframe tbody tr th:only-of-type {\n",
              "        vertical-align: middle;\n",
              "    }\n",
              "\n",
              "    .dataframe tbody tr th {\n",
              "        vertical-align: top;\n",
              "    }\n",
              "\n",
              "    .dataframe thead th {\n",
              "        text-align: right;\n",
              "    }\n",
              "</style>\n",
              "<table border=\"1\" class=\"dataframe\">\n",
              "  <thead>\n",
              "    <tr style=\"text-align: right;\">\n",
              "      <th></th>\n",
              "      <th>Bar</th>\n",
              "      <th>age</th>\n",
              "      <th>Bar_Frequent_Age_30</th>\n",
              "    </tr>\n",
              "  </thead>\n",
              "  <tbody>\n",
              "    <tr>\n",
              "      <th>9083</th>\n",
              "      <td>1~3</td>\n",
              "      <td>26</td>\n",
              "      <td>1</td>\n",
              "    </tr>\n",
              "    <tr>\n",
              "      <th>9290</th>\n",
              "      <td>less1</td>\n",
              "      <td>26</td>\n",
              "      <td>0</td>\n",
              "    </tr>\n",
              "    <tr>\n",
              "      <th>10849</th>\n",
              "      <td>1~3</td>\n",
              "      <td>41</td>\n",
              "      <td>0</td>\n",
              "    </tr>\n",
              "    <tr>\n",
              "      <th>8425</th>\n",
              "      <td>4~8</td>\n",
              "      <td>26</td>\n",
              "      <td>1</td>\n",
              "    </tr>\n",
              "    <tr>\n",
              "      <th>1730</th>\n",
              "      <td>never</td>\n",
              "      <td>26</td>\n",
              "      <td>0</td>\n",
              "    </tr>\n",
              "    <tr>\n",
              "      <th>8082</th>\n",
              "      <td>less1</td>\n",
              "      <td>50plus</td>\n",
              "      <td>0</td>\n",
              "    </tr>\n",
              "    <tr>\n",
              "      <th>9720</th>\n",
              "      <td>never</td>\n",
              "      <td>46</td>\n",
              "      <td>0</td>\n",
              "    </tr>\n",
              "    <tr>\n",
              "      <th>11455</th>\n",
              "      <td>never</td>\n",
              "      <td>41</td>\n",
              "      <td>0</td>\n",
              "    </tr>\n",
              "    <tr>\n",
              "      <th>1866</th>\n",
              "      <td>1~3</td>\n",
              "      <td>21</td>\n",
              "      <td>1</td>\n",
              "    </tr>\n",
              "    <tr>\n",
              "      <th>1298</th>\n",
              "      <td>never</td>\n",
              "      <td>50plus</td>\n",
              "      <td>0</td>\n",
              "    </tr>\n",
              "  </tbody>\n",
              "</table>\n",
              "</div>"
            ],
            "text/plain": [
              "         Bar     age  Bar_Frequent_Age_30\n",
              "9083     1~3      26                    1\n",
              "9290   less1      26                    0\n",
              "10849    1~3      41                    0\n",
              "8425     4~8      26                    1\n",
              "1730   never      26                    0\n",
              "8082   less1  50plus                    0\n",
              "9720   never      46                    0\n",
              "11455  never      41                    0\n",
              "1866     1~3      21                    1\n",
              "1298   never  50plus                    0"
            ]
          },
          "execution_count": 128,
          "metadata": {},
          "output_type": "execute_result"
        }
      ],
      "source": [
        "# Let's validate the outcome whether it works based on the conditions applied\n",
        "\n",
        "df_bar_coupons[['Bar','age','Bar_Frequent_Age_30']].sample(10)"
      ]
    },
    {
      "cell_type": "code",
      "execution_count": 129,
      "metadata": {},
      "outputs": [
        {
          "data": {
            "text/plain": [
              "71.95"
            ]
          },
          "execution_count": 129,
          "metadata": {},
          "output_type": "execute_result"
        }
      ],
      "source": [
        "# Lets first calculate the bar coupon accepted count for high frequent vistors with younger age\n",
        "\n",
        "bar_coupon_accepted_more_frequent_visitors_younger_age = df_bar_coupons.query(\"Bar_Frequent_Age_30 == 1\")['Y'].value_counts()[1]\n",
        "\n",
        "# Lets calculate the total bar coupon offered count for frequent visitors with younger age\n",
        "\n",
        "total_bar_coupon_offered_frequent_visitors_younger_age = df_bar_coupons.query(\"Bar_Frequent_Age_30 == 1\")['Y'].count()\n",
        "\n",
        "# Lets calculate the proportion of bar coupon acceptance from above values for frequent visitors with younger age\n",
        "\n",
        "proportion_of_bar_coupon_acceptance_frequent_visitors_younger_age = round((bar_coupon_accepted_more_frequent_visitors_younger_age/total_bar_coupon_offered_frequent_visitors_younger_age)*100,2)\n",
        "\n",
        "proportion_of_bar_coupon_acceptance_frequent_visitors_younger_age"
      ]
    },
    {
      "cell_type": "code",
      "execution_count": 130,
      "metadata": {},
      "outputs": [
        {
          "data": {
            "text/plain": [
              "array(['4~8', '1~3', 'less1', 'gt8', 'never'], dtype=object)"
            ]
          },
          "execution_count": 130,
          "metadata": {},
          "output_type": "execute_result"
        }
      ],
      "source": [
        "df_bar_coupons['RestaurantLessThan20'].unique()\n"
      ]
    },
    {
      "cell_type": "code",
      "execution_count": 131,
      "metadata": {},
      "outputs": [
        {
          "data": {
            "text/plain": [
              "array(['$62500 - $74999', '$12500 - $24999', '$75000 - $87499',\n",
              "       '$50000 - $62499', '$37500 - $49999', '$25000 - $37499',\n",
              "       '$100000 or More', '$87500 - $99999', 'Less than $12500'],\n",
              "      dtype=object)"
            ]
          },
          "execution_count": 131,
          "metadata": {},
          "output_type": "execute_result"
        }
      ],
      "source": [
        "df_bar_coupons['income'].unique()\n"
      ]
    },
    {
      "cell_type": "code",
      "execution_count": 132,
      "metadata": {},
      "outputs": [],
      "source": [
        "# Let's create a function that checks for all second 2 conditions and return 1 or 0\n",
        "\n",
        "def conditions(s):\n",
        "    if s['RestaurantLessThan20'] in ['4~8', 'gt8'] and s['income'] in ['Less than $12500', '$12500 - $24999', '$25000 - $37499', '$37500 - $49999']:\n",
        "        return 1\n",
        "    else:\n",
        "        return 0\n",
        "    \n",
        "# Let's create a new column based on the function above\n",
        "\n",
        "df_bar_coupons['Bar_cheap_restaurant_low_income'] = df_bar_coupons.apply(conditions, axis=1)"
      ]
    },
    {
      "cell_type": "code",
      "execution_count": 133,
      "metadata": {},
      "outputs": [
        {
          "data": {
            "text/html": [
              "<div>\n",
              "<style scoped>\n",
              "    .dataframe tbody tr th:only-of-type {\n",
              "        vertical-align: middle;\n",
              "    }\n",
              "\n",
              "    .dataframe tbody tr th {\n",
              "        vertical-align: top;\n",
              "    }\n",
              "\n",
              "    .dataframe thead th {\n",
              "        text-align: right;\n",
              "    }\n",
              "</style>\n",
              "<table border=\"1\" class=\"dataframe\">\n",
              "  <thead>\n",
              "    <tr style=\"text-align: right;\">\n",
              "      <th></th>\n",
              "      <th>RestaurantLessThan20</th>\n",
              "      <th>income</th>\n",
              "      <th>Bar_cheap_restaurant_low_income</th>\n",
              "    </tr>\n",
              "  </thead>\n",
              "  <tbody>\n",
              "    <tr>\n",
              "      <th>10883</th>\n",
              "      <td>4~8</td>\n",
              "      <td>Less than $12500</td>\n",
              "      <td>1</td>\n",
              "    </tr>\n",
              "    <tr>\n",
              "      <th>10993</th>\n",
              "      <td>less1</td>\n",
              "      <td>$12500 - $24999</td>\n",
              "      <td>0</td>\n",
              "    </tr>\n",
              "    <tr>\n",
              "      <th>2302</th>\n",
              "      <td>4~8</td>\n",
              "      <td>$50000 - $62499</td>\n",
              "      <td>0</td>\n",
              "    </tr>\n",
              "    <tr>\n",
              "      <th>5457</th>\n",
              "      <td>1~3</td>\n",
              "      <td>$75000 - $87499</td>\n",
              "      <td>0</td>\n",
              "    </tr>\n",
              "    <tr>\n",
              "      <th>11546</th>\n",
              "      <td>gt8</td>\n",
              "      <td>$50000 - $62499</td>\n",
              "      <td>0</td>\n",
              "    </tr>\n",
              "    <tr>\n",
              "      <th>8951</th>\n",
              "      <td>less1</td>\n",
              "      <td>$87500 - $99999</td>\n",
              "      <td>0</td>\n",
              "    </tr>\n",
              "    <tr>\n",
              "      <th>9978</th>\n",
              "      <td>1~3</td>\n",
              "      <td>$12500 - $24999</td>\n",
              "      <td>0</td>\n",
              "    </tr>\n",
              "    <tr>\n",
              "      <th>8110</th>\n",
              "      <td>less1</td>\n",
              "      <td>$62500 - $74999</td>\n",
              "      <td>0</td>\n",
              "    </tr>\n",
              "    <tr>\n",
              "      <th>5689</th>\n",
              "      <td>4~8</td>\n",
              "      <td>$50000 - $62499</td>\n",
              "      <td>0</td>\n",
              "    </tr>\n",
              "    <tr>\n",
              "      <th>2765</th>\n",
              "      <td>less1</td>\n",
              "      <td>$50000 - $62499</td>\n",
              "      <td>0</td>\n",
              "    </tr>\n",
              "  </tbody>\n",
              "</table>\n",
              "</div>"
            ],
            "text/plain": [
              "      RestaurantLessThan20            income  Bar_cheap_restaurant_low_income\n",
              "10883                  4~8  Less than $12500                                1\n",
              "10993                less1   $12500 - $24999                                0\n",
              "2302                   4~8   $50000 - $62499                                0\n",
              "5457                   1~3   $75000 - $87499                                0\n",
              "11546                  gt8   $50000 - $62499                                0\n",
              "8951                 less1   $87500 - $99999                                0\n",
              "9978                   1~3   $12500 - $24999                                0\n",
              "8110                 less1   $62500 - $74999                                0\n",
              "5689                   4~8   $50000 - $62499                                0\n",
              "2765                 less1   $50000 - $62499                                0"
            ]
          },
          "execution_count": 133,
          "metadata": {},
          "output_type": "execute_result"
        }
      ],
      "source": [
        "# Let's validate the outcome whether it works based on the conditions applied\n",
        "\n",
        "df_bar_coupons[['RestaurantLessThan20','income','Bar_cheap_restaurant_low_income']].sample(10)"
      ]
    },
    {
      "cell_type": "code",
      "execution_count": 134,
      "metadata": {},
      "outputs": [
        {
          "data": {
            "text/plain": [
              "45.65"
            ]
          },
          "execution_count": 134,
          "metadata": {},
          "output_type": "execute_result"
        }
      ],
      "source": [
        "# Lets first calculate the bar coupon accepted count for cheap restaurant visitor with low income\n",
        "\n",
        "bar_coupon_accepted_cheap_restaurant_low_income = df_bar_coupons.query(\"Bar_cheap_restaurant_low_income == 1\")['Y'].value_counts()[1]\n",
        "\n",
        "# Lets calculate the total bar coupon offered count for cheap restaurant visitor with low income\n",
        "\n",
        "total_bar_coupon_offered_cheap_restaurant_low_income = df_bar_coupons.query(\"Bar_cheap_restaurant_low_income == 1\")['Y'].count()\n",
        "\n",
        "# Lets calculate the proportion of bar coupon acceptance from above values for cheap restaurant visitor with low income\n",
        "\n",
        "proportion_of_bar_coupon_acceptance_cheap_restaurant_low_income = round((bar_coupon_accepted_cheap_restaurant_low_income/total_bar_coupon_offered_cheap_restaurant_low_income)*100,2)\n",
        "\n",
        "proportion_of_bar_coupon_acceptance_cheap_restaurant_low_income"
      ]
    },
    {
      "cell_type": "markdown",
      "metadata": {},
      "source": [
        "@Finding\n",
        "\n",
        "From above, we can find the 'frequent younger visitors' to bar have accepted the coupons to the most (39%) compared to 'frequent visitors that are elder and widowed' who have slightly less interest (37%) or 'frequent visitors to cheap restaurants with low income' who have even less interest (24%)"
      ]
    },
    {
      "cell_type": "code",
      "execution_count": 135,
      "metadata": {},
      "outputs": [
        {
          "data": {
            "image/png": "[encoded data removed]",
            "text/plain": [
              "<Figure size 1500x1000 with 1 Axes>"
            ]
          },
          "metadata": {},
          "output_type": "display_data"
        }
      ],
      "source": [
        "#define data\n",
        "data = [proportion_of_bar_coupon_acceptance_frequent_visitors_elderly_age_not_widowed, proportion_of_bar_coupon_acceptance_frequent_visitors_younger_age, proportion_of_bar_coupon_acceptance_cheap_restaurant_low_income]\n",
        "labels = ['frequent_visitors_elder_widowed', 'frequent_visitors_younger', 'cheap_restaurant_low_income_visitors']\n",
        "\n",
        "#define Seaborn color palette to use\n",
        "colors = sns.color_palette('pastel')[0:3]\n",
        "\n",
        "#create pie chart\n",
        "plt.pie(data, labels = labels, colors = colors, autopct='%.0f%%')\n",
        "plt.title('bar_coupon_acceptance - frequent elders widowed vs requent visitors younger vs cheap restaurant low income visitors')\n",
        "plt.show()"
      ]
    },
    {
      "cell_type": "markdown",
      "metadata": {
        "id": "v3fL3QkO_qRK"
      },
      "source": [
        "7.  Based on these observations, what do you hypothesize about drivers who accepted the bar coupons?"
      ]
    },
    {
      "cell_type": "markdown",
      "metadata": {
        "id": "Y48naDFh_qRL"
      },
      "source": [
        "The 'more frequent visitors' to bar have accepted the coupons to the most (~76%) compared to the 'less frequent visitors' who have showed only less interest in coupon acceptance (~37%).\n",
        "\n",
        "The 'frequent elderly visitors' to bar have accepted the coupons to the most (69%) compared to 'less frequent young visitors' who have showed only less interest (33%).\n",
        "\n",
        "The 'frequent elderly visitors without farming/fishing/forestry job' to bar have accepted the coupons to the most (70%) compared to 'less frequent young visitors with farming/fishing/forestry job' who have showed only less interest (30%).\n",
        "\n",
        "The 'frequent younger visitors' to bar have accepted the coupons to the most (39%) compared to 'frequent visitors that are elder and widowed' who have slightly less interest (37%) or 'frequent visitors to cheap restaurants with low income' who have even less interest (24%).\n",
        "\n",
        "In general, those drivers, who has the habit of going to bar more frequently are taking advantage of the coupon and acceoting the same more compared to anyone else.\n",
        "\n",
        "Drivers who are within low income or use cheap restaurants does not much care about the bar coupons and that was evident from the outcomes."
      ]
    },
    {
      "cell_type": "markdown",
      "metadata": {
        "id": "r4Hu1zOb_qRL"
      },
      "source": [
        "### Independent Investigation\n",
        "\n",
        "Using the bar coupon example as motivation, you are to explore one of the other coupon groups and try to determine the characteristics of passengers who accept the coupons.  "
      ]
    },
    {
      "cell_type": "code",
      "execution_count": 136,
      "metadata": {
        "id": "0c71cQhu_qRL"
      },
      "outputs": [],
      "source": [
        "# Let's create a new dataframe that is filtered for coffee house coupon only\n",
        "\n",
        "df_coffee_coupons = df.query(\"coupon == 'Coffee House'\")"
      ]
    },
    {
      "cell_type": "code",
      "execution_count": 137,
      "metadata": {
        "id": "QEsBkvIN_qRL"
      },
      "outputs": [
        {
          "data": {
            "text/html": [
              "<div>\n",
              "<style scoped>\n",
              "    .dataframe tbody tr th:only-of-type {\n",
              "        vertical-align: middle;\n",
              "    }\n",
              "\n",
              "    .dataframe tbody tr th {\n",
              "        vertical-align: top;\n",
              "    }\n",
              "\n",
              "    .dataframe thead th {\n",
              "        text-align: right;\n",
              "    }\n",
              "</style>\n",
              "<table border=\"1\" class=\"dataframe\">\n",
              "  <thead>\n",
              "    <tr style=\"text-align: right;\">\n",
              "      <th></th>\n",
              "      <th>destination</th>\n",
              "      <th>passanger</th>\n",
              "      <th>weather</th>\n",
              "      <th>temperature</th>\n",
              "      <th>time</th>\n",
              "      <th>coupon</th>\n",
              "      <th>expiration</th>\n",
              "      <th>gender</th>\n",
              "      <th>age</th>\n",
              "      <th>maritalStatus</th>\n",
              "      <th>...</th>\n",
              "      <th>CoffeeHouse</th>\n",
              "      <th>CarryAway</th>\n",
              "      <th>RestaurantLessThan20</th>\n",
              "      <th>Restaurant20To50</th>\n",
              "      <th>toCoupon_GEQ5min</th>\n",
              "      <th>toCoupon_GEQ15min</th>\n",
              "      <th>toCoupon_GEQ25min</th>\n",
              "      <th>direction_same</th>\n",
              "      <th>direction_opp</th>\n",
              "      <th>Y</th>\n",
              "    </tr>\n",
              "  </thead>\n",
              "  <tbody>\n",
              "    <tr>\n",
              "      <th>23</th>\n",
              "      <td>No Urgent Place</td>\n",
              "      <td>Friend(s)</td>\n",
              "      <td>Sunny</td>\n",
              "      <td>80</td>\n",
              "      <td>10AM</td>\n",
              "      <td>Coffee House</td>\n",
              "      <td>2h</td>\n",
              "      <td>Male</td>\n",
              "      <td>21</td>\n",
              "      <td>Single</td>\n",
              "      <td>...</td>\n",
              "      <td>less1</td>\n",
              "      <td>4~8</td>\n",
              "      <td>4~8</td>\n",
              "      <td>less1</td>\n",
              "      <td>1</td>\n",
              "      <td>0</td>\n",
              "      <td>0</td>\n",
              "      <td>0</td>\n",
              "      <td>1</td>\n",
              "      <td>0</td>\n",
              "    </tr>\n",
              "    <tr>\n",
              "      <th>26</th>\n",
              "      <td>No Urgent Place</td>\n",
              "      <td>Friend(s)</td>\n",
              "      <td>Sunny</td>\n",
              "      <td>80</td>\n",
              "      <td>2PM</td>\n",
              "      <td>Coffee House</td>\n",
              "      <td>1d</td>\n",
              "      <td>Male</td>\n",
              "      <td>21</td>\n",
              "      <td>Single</td>\n",
              "      <td>...</td>\n",
              "      <td>less1</td>\n",
              "      <td>4~8</td>\n",
              "      <td>4~8</td>\n",
              "      <td>less1</td>\n",
              "      <td>1</td>\n",
              "      <td>0</td>\n",
              "      <td>0</td>\n",
              "      <td>0</td>\n",
              "      <td>1</td>\n",
              "      <td>0</td>\n",
              "    </tr>\n",
              "    <tr>\n",
              "      <th>27</th>\n",
              "      <td>No Urgent Place</td>\n",
              "      <td>Friend(s)</td>\n",
              "      <td>Sunny</td>\n",
              "      <td>80</td>\n",
              "      <td>2PM</td>\n",
              "      <td>Coffee House</td>\n",
              "      <td>2h</td>\n",
              "      <td>Male</td>\n",
              "      <td>21</td>\n",
              "      <td>Single</td>\n",
              "      <td>...</td>\n",
              "      <td>less1</td>\n",
              "      <td>4~8</td>\n",
              "      <td>4~8</td>\n",
              "      <td>less1</td>\n",
              "      <td>1</td>\n",
              "      <td>1</td>\n",
              "      <td>0</td>\n",
              "      <td>0</td>\n",
              "      <td>1</td>\n",
              "      <td>0</td>\n",
              "    </tr>\n",
              "    <tr>\n",
              "      <th>28</th>\n",
              "      <td>No Urgent Place</td>\n",
              "      <td>Friend(s)</td>\n",
              "      <td>Sunny</td>\n",
              "      <td>80</td>\n",
              "      <td>2PM</td>\n",
              "      <td>Coffee House</td>\n",
              "      <td>1d</td>\n",
              "      <td>Male</td>\n",
              "      <td>21</td>\n",
              "      <td>Single</td>\n",
              "      <td>...</td>\n",
              "      <td>less1</td>\n",
              "      <td>4~8</td>\n",
              "      <td>4~8</td>\n",
              "      <td>less1</td>\n",
              "      <td>1</td>\n",
              "      <td>1</td>\n",
              "      <td>0</td>\n",
              "      <td>0</td>\n",
              "      <td>1</td>\n",
              "      <td>0</td>\n",
              "    </tr>\n",
              "    <tr>\n",
              "      <th>30</th>\n",
              "      <td>No Urgent Place</td>\n",
              "      <td>Friend(s)</td>\n",
              "      <td>Sunny</td>\n",
              "      <td>80</td>\n",
              "      <td>6PM</td>\n",
              "      <td>Coffee House</td>\n",
              "      <td>2h</td>\n",
              "      <td>Male</td>\n",
              "      <td>21</td>\n",
              "      <td>Single</td>\n",
              "      <td>...</td>\n",
              "      <td>less1</td>\n",
              "      <td>4~8</td>\n",
              "      <td>4~8</td>\n",
              "      <td>less1</td>\n",
              "      <td>1</td>\n",
              "      <td>0</td>\n",
              "      <td>0</td>\n",
              "      <td>0</td>\n",
              "      <td>1</td>\n",
              "      <td>0</td>\n",
              "    </tr>\n",
              "  </tbody>\n",
              "</table>\n",
              "<p>5 rows × 26 columns</p>\n",
              "</div>"
            ],
            "text/plain": [
              "        destination  passanger weather  temperature  time        coupon  \\\n",
              "23  No Urgent Place  Friend(s)   Sunny           80  10AM  Coffee House   \n",
              "26  No Urgent Place  Friend(s)   Sunny           80   2PM  Coffee House   \n",
              "27  No Urgent Place  Friend(s)   Sunny           80   2PM  Coffee House   \n",
              "28  No Urgent Place  Friend(s)   Sunny           80   2PM  Coffee House   \n",
              "30  No Urgent Place  Friend(s)   Sunny           80   6PM  Coffee House   \n",
              "\n",
              "   expiration gender age maritalStatus  ...  CoffeeHouse CarryAway  \\\n",
              "23         2h   Male  21        Single  ...        less1       4~8   \n",
              "26         1d   Male  21        Single  ...        less1       4~8   \n",
              "27         2h   Male  21        Single  ...        less1       4~8   \n",
              "28         1d   Male  21        Single  ...        less1       4~8   \n",
              "30         2h   Male  21        Single  ...        less1       4~8   \n",
              "\n",
              "   RestaurantLessThan20 Restaurant20To50 toCoupon_GEQ5min toCoupon_GEQ15min  \\\n",
              "23                  4~8            less1                1                 0   \n",
              "26                  4~8            less1                1                 0   \n",
              "27                  4~8            less1                1                 1   \n",
              "28                  4~8            less1                1                 1   \n",
              "30                  4~8            less1                1                 0   \n",
              "\n",
              "   toCoupon_GEQ25min direction_same direction_opp  Y  \n",
              "23                 0              0             1  0  \n",
              "26                 0              0             1  0  \n",
              "27                 0              0             1  0  \n",
              "28                 0              0             1  0  \n",
              "30                 0              0             1  0  \n",
              "\n",
              "[5 rows x 26 columns]"
            ]
          },
          "execution_count": 137,
          "metadata": {},
          "output_type": "execute_result"
        }
      ],
      "source": [
        "# Let's take a look at the top 5 rows for coffee house data frame\n",
        "\n",
        "df_coffee_coupons.head(5)"
      ]
    },
    {
      "cell_type": "code",
      "execution_count": 138,
      "metadata": {
        "id": "fTC2WGE3_qRL"
      },
      "outputs": [
        {
          "data": {
            "text/plain": [
              "(3816, 26)"
            ]
          },
          "execution_count": 138,
          "metadata": {},
          "output_type": "execute_result"
        }
      ],
      "source": [
        "# Let's find the number of rows and columns available\n",
        "\n",
        "df_coffee_coupons.shape"
      ]
    },
    {
      "cell_type": "code",
      "execution_count": 139,
      "metadata": {
        "id": "RrqUWn7d_qRL"
      },
      "outputs": [
        {
          "data": {
            "text/plain": [
              "49.63"
            ]
          },
          "execution_count": 139,
          "metadata": {},
          "output_type": "execute_result"
        }
      ],
      "source": [
        "# Lets first calculate the coffee house coupon accepted count\n",
        "\n",
        "coffee_coupon_accepted = df_coffee_coupons['Y'].value_counts()[1]\n",
        "\n",
        "# Lets calculate the total coffee house coupon offered count\n",
        "\n",
        "total_coffee_coupon_offered = df_coffee_coupons['Y'].count()\n",
        "\n",
        "# Lets calculate the proportion of coffee coupon acceptance from above values\n",
        "\n",
        "proportion_of_coffee_coupon_acceptance = round((coffee_coupon_accepted/total_coffee_coupon_offered)*100,2)\n",
        "\n",
        "proportion_of_coffee_coupon_acceptance"
      ]
    },
    {
      "cell_type": "code",
      "execution_count": 140,
      "metadata": {
        "id": "_oykf8YP_qRL"
      },
      "outputs": [
        {
          "name": "stdout",
          "output_type": "stream",
          "text": [
            "<class 'pandas.core.frame.DataFrame'>\n",
            "Index: 3816 entries, 23 to 12681\n",
            "Data columns (total 26 columns):\n",
            " #   Column                Non-Null Count  Dtype \n",
            "---  ------                --------------  ----- \n",
            " 0   destination           3816 non-null   object\n",
            " 1   passanger             3816 non-null   object\n",
            " 2   weather               3816 non-null   object\n",
            " 3   temperature           3816 non-null   int64 \n",
            " 4   time                  3816 non-null   object\n",
            " 5   coupon                3816 non-null   object\n",
            " 6   expiration            3816 non-null   object\n",
            " 7   gender                3816 non-null   object\n",
            " 8   age                   3816 non-null   object\n",
            " 9   maritalStatus         3816 non-null   object\n",
            " 10  has_children          3816 non-null   int64 \n",
            " 11  education             3816 non-null   object\n",
            " 12  occupation            3816 non-null   object\n",
            " 13  income                3816 non-null   object\n",
            " 14  car                   3816 non-null   object\n",
            " 15  Bar                   3816 non-null   object\n",
            " 16  CoffeeHouse           3816 non-null   object\n",
            " 17  CarryAway             3816 non-null   object\n",
            " 18  RestaurantLessThan20  3816 non-null   object\n",
            " 19  Restaurant20To50      3816 non-null   object\n",
            " 20  toCoupon_GEQ5min      3816 non-null   int64 \n",
            " 21  toCoupon_GEQ15min     3816 non-null   int64 \n",
            " 22  toCoupon_GEQ25min     3816 non-null   int64 \n",
            " 23  direction_same        3816 non-null   int64 \n",
            " 24  direction_opp         3816 non-null   int64 \n",
            " 25  Y                     3816 non-null   int64 \n",
            "dtypes: int64(8), object(18)\n",
            "memory usage: 804.9+ KB\n"
          ]
        }
      ],
      "source": [
        "# Let's check the column data types once\n",
        "\n",
        "df_coffee_coupons.info()"
      ]
    },
    {
      "cell_type": "code",
      "execution_count": 141,
      "metadata": {},
      "outputs": [],
      "source": [
        "# Let's make a copy of the numeric column for acceptance and then convert into string for better use in charts\n",
        "\n",
        "df_coffee_coupons['acceptance'] = df_coffee_coupons['Y']\n",
        "\n",
        "df_coffee_coupons['acceptance']=df_coffee_coupons['acceptance'].astype(\"string\")"
      ]
    },
    {
      "cell_type": "code",
      "execution_count": 142,
      "metadata": {},
      "outputs": [
        {
          "name": "stdout",
          "output_type": "stream",
          "text": [
            "destination                     object\n",
            "passanger                       object\n",
            "weather                         object\n",
            "temperature                      int64\n",
            "time                            object\n",
            "coupon                          object\n",
            "expiration                      object\n",
            "gender                          object\n",
            "age                             object\n",
            "maritalStatus                   object\n",
            "has_children                     int64\n",
            "education                       object\n",
            "occupation                      object\n",
            "income                          object\n",
            "car                             object\n",
            "Bar                             object\n",
            "CoffeeHouse                     object\n",
            "CarryAway                       object\n",
            "RestaurantLessThan20            object\n",
            "Restaurant20To50                object\n",
            "toCoupon_GEQ5min                 int64\n",
            "toCoupon_GEQ15min                int64\n",
            "toCoupon_GEQ25min                int64\n",
            "direction_same                   int64\n",
            "direction_opp                    int64\n",
            "Y                                int64\n",
            "acceptance              string[python]\n",
            "dtype: object\n"
          ]
        }
      ],
      "source": [
        "# Let's validate if the column has been created with appropriate data type\n",
        "\n",
        "print(df_coffee_coupons.dtypes)"
      ]
    },
    {
      "cell_type": "code",
      "execution_count": 143,
      "metadata": {},
      "outputs": [],
      "source": [
        "# For better readbaility, lets replace the value 1 as 'Accepted' & 0 as 'Not Accepted'\n",
        "\n",
        "df_coffee_coupons['acceptance'] = df_coffee_coupons['acceptance'].str.replace('1', 'Accepted')\n",
        "df_coffee_coupons['acceptance'] = df_coffee_coupons['acceptance'].str.replace('0', 'Not Accepted')"
      ]
    },
    {
      "cell_type": "code",
      "execution_count": 144,
      "metadata": {},
      "outputs": [
        {
          "data": {
            "text/plain": [
              "<StringArray>\n",
              "['Not Accepted', 'Accepted']\n",
              "Length: 2, dtype: string"
            ]
          },
          "execution_count": 144,
          "metadata": {},
          "output_type": "execute_result"
        }
      ],
      "source": [
        "\n",
        "# Validate if the replaced values are showing up\n",
        "\n",
        "df_coffee_coupons['acceptance'].unique()"
      ]
    },
    {
      "cell_type": "markdown",
      "metadata": {},
      "source": [
        "Distribution of Coffee coupon acceptance\n"
      ]
    },
    {
      "cell_type": "code",
      "execution_count": 145,
      "metadata": {},
      "outputs": [
        {
          "data": {
            "text/plain": [
              "Text(0.5, 1.0, 'Distribution of Accepted Coffee Coupons')"
            ]
          },
          "execution_count": 145,
          "metadata": {},
          "output_type": "execute_result"
        },
        {
          "data": {
            "image/png": "[encoded data removed]",
            "text/plain": [
              "<Figure size 1500x1000 with 1 Axes>"
            ]
          },
          "metadata": {},
          "output_type": "display_data"
        }
      ],
      "source": [
        "# Lets create a histogram based on the coffee coupon acceptance overall\n",
        "\n",
        "g1 = sns.histplot(data=df_coffee_coupons, x='acceptance', color='red')\n",
        "g1.set_title('Distribution of Accepted Coffee Coupons')"
      ]
    },
    {
      "cell_type": "code",
      "execution_count": 146,
      "metadata": {},
      "outputs": [
        {
          "data": {
            "text/plain": [
              "array(['Friend(s)', 'Alone', 'Kid(s)', 'Partner'], dtype=object)"
            ]
          },
          "execution_count": 146,
          "metadata": {},
          "output_type": "execute_result"
        }
      ],
      "source": [
        "df_coffee_coupons['passanger'].unique()"
      ]
    },
    {
      "cell_type": "markdown",
      "metadata": {},
      "source": [
        "@Finding\n",
        "\n",
        "Coffee coupons were accepted comparatively more by the passanger with friends group whereas comparatively less when travelling alone."
      ]
    }
  ],
  "metadata": {
    "colab": {
      "provenance": []
    },
    "interpreter": {
      "hash": "40d3a090f54c6569ab1632332b64b2c03c39dcf918b08424e98f38b5ae0af88f"
    },
    "kernelspec": {
      "display_name": "Python 3.12.7 ('base')",
      "language": "python",
      "name": "python3"
    },
    "language_info": {
      "codemirror_mode": {
        "name": "ipython",
        "version": 3
      },
      "file_extension": ".py",
      "mimetype": "text/x-python",
      "name": "python",
      "nbconvert_exporter": "python",
      "pygments_lexer": "ipython3",
      "version": "3.12.7"
    }
  },
  "nbformat": 4,
  "nbformat_minor": 0
}
